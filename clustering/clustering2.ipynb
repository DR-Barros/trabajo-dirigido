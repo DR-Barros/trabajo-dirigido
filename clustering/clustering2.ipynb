{
 "cells": [
  {
   "cell_type": "code",
   "execution_count": null,
   "metadata": {},
   "outputs": [],
   "source": [
    "import numpy as np\n",
    "import pandas as pd\n",
    "from sklearn.cluster import KMeans, AgglomerativeClustering, DBSCAN\n",
    "import matplotlib.pyplot as plt\n",
    "from sklearn.preprocessing import StandardScaler"
   ]
  },
  {
   "cell_type": "code",
   "execution_count": null,
   "metadata": {},
   "outputs": [],
   "source": [
    "df = pd.read_csv('../data/marketing_campaign.csv')\n",
    "\n",
    "df[\"Education\"] = df[\"Education\"].map({'Graduation': 4, 'PhD': 5, 'Master': 3, 'Basic': 1, '2n Cycle': 2}).astype(int)\n",
    "df = df.drop(['ID', 'Marital_Status', 'Dt_Customer', ], axis=1)\n",
    "df.dropna(inplace=True)\n",
    "print(df.shape)\n",
    "print(df.columns)\n",
    "\n",
    "# normalize the data\n",
    "\n",
    "scaler = StandardScaler()\n",
    "X = scaler.fit_transform(df)\n",
    "df = pd.DataFrame(X, columns=df.columns)\n"
   ]
  },
  {
   "cell_type": "code",
   "execution_count": null,
   "metadata": {},
   "outputs": [],
   "source": [
    "wcss = []\n",
    "for i in range(1, 11):\n",
    "    kmeans = KMeans(n_clusters=i, init='k-means++', max_iter=300, n_init=10, random_state=0)\n",
    "    kmeans.fit(df)\n",
    "    wcss.append(kmeans.inertia_)\n",
    "\n",
    "plt.plot(range(1, 11), wcss)\n",
    "plt.title('Elbow Method')\n",
    "plt.xlabel('Number of clusters')\n",
    "plt.ylabel('WCSS')\n",
    "plt.show()"
   ]
  },
  {
   "cell_type": "code",
   "execution_count": null,
   "metadata": {},
   "outputs": [],
   "source": [
    "# Choose the optimal number of clusters based on previous analyses, say k = 4\n",
    "kmeans = KMeans(n_clusters=2, init='k-means++', max_iter=300, n_init=10, random_state=0)\n",
    "kmeans.fit(df)"
   ]
  },
  {
   "cell_type": "code",
   "execution_count": null,
   "metadata": {},
   "outputs": [],
   "source": [
    "from sklearn.decomposition import PCA\n",
    "import seaborn as sns\n",
    "pca = PCA(n_components=2)\n",
    "data_pca = pca.fit_transform(df)\n",
    "\n",
    "# Crear un DataFrame con las componentes principales y las etiquetas de los clusters\n",
    "df_pca = pd.DataFrame(data_pca, columns=['PCA1', 'PCA2'])\n",
    "df_pca['cluster'] = kmeans.labels_\n",
    "\n",
    "# Graficar los clusters\n",
    "plt.figure(figsize=(10, 6))\n",
    "sns.scatterplot(x='PCA1', y='PCA2', hue='cluster', palette='viridis', data=df_pca, s=100, alpha=0.7)\n",
    "plt.title('Clusters Visualizados con PCA')\n",
    "plt.xlabel('PCA1')\n",
    "plt.ylabel('PCA2')\n",
    "plt.legend(title='Cluster')\n",
    "plt.show()"
   ]
  },
  {
   "cell_type": "code",
   "execution_count": null,
   "metadata": {},
   "outputs": [],
   "source": [
    "from sklearn.tree import DecisionTreeClassifier\n",
    "from sklearn.model_selection import train_test_split\n",
    "from sklearn.metrics import accuracy_score\n",
    "from sklearn import tree\n",
    "\n",
    "X = df\n",
    "y = pd.DataFrame(kmeans.labels_, columns=['cluster'])\n",
    "\n",
    "X_train, X_test, y_train, y_test = train_test_split(X, y, test_size=0.25, random_state=42)\n",
    "\n",
    "dt = DecisionTreeClassifier(max_depth=5)\n",
    "dt.fit(X_train, y_train)\n",
    "\n",
    "y_pred = dt.predict(X_test)\n",
    "\n",
    "print('Accuracy:', accuracy_score(y_test, y_pred))\n",
    "plt.figure(figsize=(20, 10))\n",
    "tree.plot_tree(dt, filled=True, feature_names=df.columns, class_names=['0', '1', '2', '3', '4', '5', '6', '7', '8', '9'])\n",
    "plt.show()"
   ]
  },
  {
   "cell_type": "code",
   "execution_count": null,
   "metadata": {},
   "outputs": [],
   "source": [
    "from dsgd.DSClassifierMultiQ import DSClassifierMultiQ\n",
    "X_train_ds = X_train.to_numpy()\n",
    "y_train_ds = y_train.to_numpy()\n",
    "X_test_ds = X_test.to_numpy()\n",
    "y_test_ds = y_test.to_numpy()\n",
    "\n",
    "DSC = DSClassifierMultiQ(2, min_iter=20, max_iter=200, debug_mode=True, lr=0.0005, \n",
    "                                lossfn=\"MSE\", num_workers=1, min_dloss=1e-7, precompute_rules=True)\n",
    "\n",
    "losses, epoch, dt = DSC.fit(X_train_ds, y_train_ds, add_single_rules=True,\n",
    "                            single_rules_breaks=5, add_mult_rules=False,\n",
    "                                column_names=df.columns, print_every_epochs=1, print_final_model=False)\n",
    "y_pred_ds = DSC.predict(X_test_ds)"
   ]
  },
  {
   "cell_type": "code",
   "execution_count": null,
   "metadata": {},
   "outputs": [],
   "source": [
    "accuracy = accuracy_score(y_test_ds, y_pred_ds)\n",
    "print('Accuracy:', accuracy)"
   ]
  },
  {
   "cell_type": "code",
   "execution_count": null,
   "metadata": {},
   "outputs": [],
   "source": [
    "DSC.print_most_important_rules(threshold=0.1)"
   ]
  }
 ],
 "metadata": {
  "kernelspec": {
   "display_name": "python-env",
   "language": "python",
   "name": "python3"
  },
  "language_info": {
   "codemirror_mode": {
    "name": "ipython",
    "version": 3
   },
   "file_extension": ".py",
   "mimetype": "text/x-python",
   "name": "python",
   "nbconvert_exporter": "python",
   "pygments_lexer": "ipython3",
   "version": "3.10.12"
  }
 },
 "nbformat": 4,
 "nbformat_minor": 2
}
