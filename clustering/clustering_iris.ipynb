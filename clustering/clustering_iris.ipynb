{
 "cells": [
  {
   "cell_type": "code",
   "execution_count": null,
   "metadata": {},
   "outputs": [],
   "source": [
    "import numpy as np\n",
    "import pandas as pd\n",
    "from sklearn.preprocessing import normalize\n",
    "from sklearn.cluster import KMeans, AgglomerativeClustering, DBSCAN\n",
    "import matplotlib.pyplot as plt\n",
    "from sklearn import datasets"
   ]
  },
  {
   "cell_type": "code",
   "execution_count": null,
   "metadata": {},
   "outputs": [],
   "source": [
    "iris = datasets.load_iris()\n",
    "df = pd.DataFrame(data=iris.data, columns=iris.feature_names)\n",
    "df = pd.DataFrame(normalize(df), columns=iris.feature_names)\n",
    "print(df.head())"
   ]
  },
  {
   "cell_type": "code",
   "execution_count": null,
   "metadata": {},
   "outputs": [],
   "source": [
    "wcss = []\n",
    "for i in range(1, 11):\n",
    "    kmeans = KMeans(n_clusters=i, init='k-means++', max_iter=300, n_init=10, random_state=0)\n",
    "    kmeans.fit(df)\n",
    "    wcss.append(kmeans.inertia_)\n",
    "\n",
    "plt.plot(range(1, 11), wcss)\n",
    "plt.title('Elbow Method')\n",
    "plt.xlabel('Number of clusters')\n",
    "plt.ylabel('WCSS')\n",
    "plt.show()\n"
   ]
  },
  {
   "cell_type": "code",
   "execution_count": null,
   "metadata": {},
   "outputs": [],
   "source": [
    "from sklearn.metrics import silhouette_score\n",
    "\n",
    "silhouette_scores = []\n",
    "for n_cluster in range(2, 11):\n",
    "    kmeans = KMeans(n_clusters=n_cluster).fit(df)\n",
    "    silhouette_scores.append(silhouette_score(df, kmeans.labels_))\n",
    "\n",
    "plt.plot(range(2, 11), silhouette_scores)\n",
    "plt.title('Silhouette Method')\n",
    "plt.xlabel('Number of clusters')\n",
    "plt.ylabel('Silhouette Score')\n",
    "plt.show()\n"
   ]
  },
  {
   "cell_type": "code",
   "execution_count": null,
   "metadata": {},
   "outputs": [],
   "source": [
    "from sklearn.metrics import davies_bouldin_score\n",
    "\n",
    "db_scores = []\n",
    "for n_cluster in range(2, 11):\n",
    "    kmeans = KMeans(n_clusters=n_cluster).fit(df)\n",
    "    db_scores.append(davies_bouldin_score(df, kmeans.labels_))\n",
    "\n",
    "plt.plot(range(2, 11), db_scores)\n",
    "plt.title('Davies-Bouldin Index')\n",
    "plt.xlabel('Number of clusters')\n",
    "plt.ylabel('Davies-Bouldin Index')\n",
    "plt.show()\n"
   ]
  },
  {
   "cell_type": "markdown",
   "metadata": {},
   "source": [
    "# Kmeans"
   ]
  },
  {
   "cell_type": "code",
   "execution_count": null,
   "metadata": {},
   "outputs": [],
   "source": [
    "# Choose the optimal number of clusters based on previous analyses, say k = 4\n",
    "kmeans = KMeans(n_clusters=3, init='k-means++', max_iter=300, n_init=10, random_state=0)\n",
    "kmeans.fit(df)\n",
    "df['cluster'] = kmeans.labels_"
   ]
  },
  {
   "cell_type": "code",
   "execution_count": null,
   "metadata": {},
   "outputs": [],
   "source": [
    "# Choose the optimal number of clusters based on previous analyses, say k = 4\n",
    "kmeans = KMeans(n_clusters=3, init='k-means++', max_iter=300, n_init=10, random_state=0)\n",
    "kmeans.fit(df)\n",
    "df['cluster'] = kmeans.labels_\n",
    "\n",
    "\"\"\" for i in range(len(df)):\n",
    "    if df['cluster'][i] == 0:\n",
    "        df.loc[i, 'cluster'] = 1\n",
    "    elif df['cluster'][i] == 1:\n",
    "        df.loc[i, 'cluster'] = 0\n",
    "errores = 0\n",
    "for i in range(len(df)):\n",
    "    if df['cluster'][i] != iris.target[i]:\n",
    "        errores += 1\n",
    "print(f'Total errors: {errores}') \"\"\""
   ]
  },
  {
   "cell_type": "code",
   "execution_count": null,
   "metadata": {},
   "outputs": [],
   "source": [
    "from sklearn.decomposition import PCA\n",
    "import seaborn as sns\n",
    "pca = PCA(n_components=2)\n",
    "data_pca = pca.fit_transform(df)\n",
    "\n",
    "# Crear un DataFrame con las componentes principales y las etiquetas de los clusters\n",
    "df_pca = pd.DataFrame(data_pca, columns=['PCA1', 'PCA2'])\n",
    "df_pca['cluster'] = kmeans.labels_\n",
    "\n",
    "# Graficar los clusters\n",
    "plt.figure(figsize=(10, 6))\n",
    "sns.scatterplot(x='PCA1', y='PCA2', hue='cluster', palette='viridis', data=df_pca, s=100, alpha=0.7)\n",
    "plt.title('Clusters Visualizados con PCA')\n",
    "plt.xlabel('PCA1')\n",
    "plt.ylabel('PCA2')\n",
    "plt.legend(title='Cluster')\n",
    "plt.show()"
   ]
  },
  {
   "cell_type": "code",
   "execution_count": null,
   "metadata": {},
   "outputs": [],
   "source": [
    "#comparar con las etiquetas reales\n",
    "plt.figure(figsize=(10, 6))\n",
    "sns.scatterplot(x='PCA1', y='PCA2', hue=iris.target, palette='viridis', data=df_pca, s=100, alpha=0.7)\n",
    "plt.title('Etiquetas Reales')\n",
    "plt.xlabel('PCA1')\n",
    "plt.ylabel('PCA2')\n",
    "plt.legend(title='Cluster')\n",
    "plt.show()"
   ]
  },
  {
   "cell_type": "code",
   "execution_count": null,
   "metadata": {},
   "outputs": [],
   "source": [
    "# evaluaemos con random forest si los clusters son buenos\n",
    "from sklearn.ensemble import RandomForestClassifier\n",
    "from sklearn.tree import DecisionTreeClassifier\n",
    "from sklearn.model_selection import train_test_split\n",
    "from sklearn.metrics import accuracy_score\n",
    "from sklearn import tree\n",
    "\n",
    "X = df.drop('cluster', axis=1)\n",
    "y = df['cluster']\n",
    "\n",
    "X_train, X_test, y_train, y_test = train_test_split(X, y, test_size=0.2, random_state=0)\n",
    "\n",
    "\"\"\" rf = RandomForestClassifier(n_estimators=100, random_state=0, max_depth=5)\n",
    "rf.fit(X_train, y_train)\n",
    "y_pred = rf.predict(X_test)\n",
    "\n",
    "print('Accuracy:', accuracy_score(y_test, y_pred)) \"\"\"\n",
    "\n",
    "#desicion tree\n",
    "dt = DecisionTreeClassifier(max_depth=5, random_state=0)\n",
    "dt.fit(X_train, y_train)\n",
    "y_pred = dt.predict(X_test)\n",
    "\n",
    "print('Accuracy:', accuracy_score(y_test, y_pred))\n",
    "plt.figure(figsize=(20, 10))\n",
    "tree.plot_tree(dt, filled=True, feature_names=iris.feature_names)\n",
    "plt.show()"
   ]
  },
  {
   "cell_type": "code",
   "execution_count": null,
   "metadata": {},
   "outputs": [],
   "source": [
    "from dsgd.DSClassifierMultiQ import DSClassifierMultiQ\n",
    "X_train_ds = X_train.to_numpy()\n",
    "y_train_ds = y_train.to_numpy()\n",
    "X_test_ds = X_test.to_numpy()\n",
    "y_test_ds = y_test.to_numpy()\n",
    "\n",
    "\n",
    "DSC = DSClassifierMultiQ(3, min_iter=20, max_iter=500, debug_mode=True, lr=0.005, \n",
    "                                lossfn=\"MSE\", num_workers=1, min_dloss=1e-7, precompute_rules=True)\n",
    "\n",
    "losses, epoch, dt = DSC.fit(X_train_ds, y_train_ds, add_single_rules=True,\n",
    "                            single_rules_breaks=3, add_mult_rules=False,\n",
    "                                column_names=iris.feature_names, print_every_epochs=1, print_final_model=False)\n",
    "y_pred_ds = DSC.predict(X_test_ds)\n"
   ]
  },
  {
   "cell_type": "code",
   "execution_count": null,
   "metadata": {},
   "outputs": [],
   "source": [
    "accuracy = accuracy_score(y_test_ds, y_pred_ds)\n",
    "print('Accuracy:', accuracy)"
   ]
  },
  {
   "cell_type": "code",
   "execution_count": null,
   "metadata": {},
   "outputs": [],
   "source": [
    "DSC.print_most_important_rules(threshold=0.7)"
   ]
  }
 ],
 "metadata": {
  "kernelspec": {
   "display_name": "env",
   "language": "python",
   "name": "python3"
  },
  "language_info": {
   "codemirror_mode": {
    "name": "ipython",
    "version": 3
   },
   "file_extension": ".py",
   "mimetype": "text/x-python",
   "name": "python",
   "nbconvert_exporter": "python",
   "pygments_lexer": "ipython3",
   "version": "3.10.12"
  }
 },
 "nbformat": 4,
 "nbformat_minor": 2
}
