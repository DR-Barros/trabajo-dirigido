{
 "cells": [
  {
   "cell_type": "code",
   "execution_count": 6,
   "id": "34e84501",
   "metadata": {},
   "outputs": [],
   "source": [
    "import numpy as np\n",
    "from scipy import stats\n",
    "import pandas as pd\n",
    "\n",
    "#tengo 20 archivos resultX.csv que quiero leer\n",
    "dataset_real = []\n",
    "dataset_sintetico = []\n",
    "for i in range(20):\n",
    "    #leo el archivo resultX.csv\n",
    "    df = pd.read_csv(f\"results{i}.csv\")\n",
    "    #me quiero quedar solo las que en la columna \"Dataset\" tiene Gaussian, Atom, Chainlink, Target, TwoDiamonds, Wine, BreastCancer, SAHeart, Iris, Stroke\n",
    "    df_real = df[df[\"Dataset\"].isin([ \"Wine\", \"BreastCancer\", \"SAHeart\", \"Iris\", \"Stroke\"])]\n",
    "    df_sintetico = df[df[\"Dataset\"].isin([ \"Gaussian\", \"Atom\", \"Chainlink\", \"Target\", \"TwoDiamonds\"])]\n",
    "    #dropeamos los casos en que en columna Silhouette tenemos un valor 0\n",
    "    df_real = df_real[df_real[\"Silhouette\"] != 0]\n",
    "    df_sintetico = df_sintetico[df_sintetico[\"Silhouette\"] != 0]\n",
    "    #agrego el dataframe a la lista\n",
    "    dataset_real.append(df_real)\n",
    "    dataset_sintetico.append(df_sintetico)\n",
    "    \n",
    "    \n",
    "df_real = pd.concat(dataset_real)\n",
    "df_sintetico = pd.concat(dataset_sintetico)"
   ]
  },
  {
   "cell_type": "code",
   "execution_count": 7,
   "id": "4c8cdf3b",
   "metadata": {},
   "outputs": [
    {
     "name": "stdout",
     "output_type": "stream",
     "text": [
      "Algorithm: KMeans\n",
      "Real: 0.3722 (0.0889) [40] 0.3447 - 0.3998 0.2806817957373884 0.4724920211075079\n",
      "Sintetico: 0.4439 (0.1347) [100] 0.4175 - 0.4703 0.2476330627755211 0.6314108025017449\n",
      "\n",
      "Algorithm: DBSCAN\n",
      "Real: 0.3565 (0.0000) [20] 0.3565 - 0.3565 0.3565164814270073 0.3565164814270073\n",
      "Sintetico: 0.2764 (0.1157) [80] 0.2510 - 0.3017 0.1536358301003274 0.4608703145263482\n",
      "\n",
      "Algorithm: Agglomerative\n",
      "Real: 0.3621 (0.0857) [40] 0.3355 - 0.3886 0.2774439826952266 0.4466890410285909\n",
      "Sintetico: 0.4560 (0.1299) [100] 0.4306 - 0.4815 0.2719429637104548 0.6314707303920268\n",
      "\n",
      "Algorithm: CDSDG Clustering\n",
      "Real: 0.3712 (0.1357) [40] 0.3292 - 0.4133 0.2142867164487772 0.504645610832545\n",
      "Sintetico: 0.4635 (0.0511) [100] 0.4535 - 0.4735 0.4213864174626807 0.6154700887378831\n",
      "\n",
      "Algorithm: CDSDG Voting\n",
      "Real: 0.2661 (0.0300) [40] 0.2568 - 0.2754 0.2175098524275899 0.2986356275755792\n",
      "Sintetico: 0.3342 (0.1754) [100] 0.2998 - 0.3686 -0.0126531269997907 0.4538890507069509\n",
      "\n",
      "Algorithm: CDSDG Clustering with n_clusters\n",
      "Real: 0.4320 (0.1517) [40] 0.3850 - 0.4790 0.2766863342253222 0.5817500491982808\n",
      "Sintetico: 0.4545 (0.1388) [100] 0.4273 - 0.4817 0.2476330627755211 0.6314108025017449\n",
      "\n"
     ]
    }
   ],
   "source": [
    "algorithms = df_real[\"Algorithm\"].unique()\n",
    "for algorithm in algorithms:\n",
    "    #me quedo solo con el algoritmo\n",
    "    df_real_algorithm = df_real[df_real[\"Algorithm\"] == algorithm]\n",
    "    df_sintetico_algorithm = df_sintetico[df_sintetico[\"Algorithm\"] == algorithm]\n",
    "    \n",
    "    #calculamos el intervalo de confianza para el algoritmo de la columna Silhouette\n",
    "    #real\n",
    "    mean_real = df_real_algorithm[\"Silhouette\"].mean()\n",
    "    std_real = df_real_algorithm[\"Silhouette\"].std()\n",
    "    n_real = df_real_algorithm[\"Silhouette\"].count()\n",
    "    #sintetico\n",
    "    mean_sintetico = df_sintetico_algorithm[\"Silhouette\"].mean()\n",
    "    std_sintetico = df_sintetico_algorithm[\"Silhouette\"].std()\n",
    "    n_sintetico = df_sintetico_algorithm[\"Silhouette\"].count()\n",
    "    #intervalo de confianza\n",
    "    confidence = 0.95\n",
    "    z = stats.norm.ppf((1 + confidence) / 2)\n",
    "    #real\n",
    "    se_real = std_real / np.sqrt(n_real)\n",
    "    ci_real = (mean_real - z * se_real, mean_real + z * se_real)\n",
    "    #sintetico\n",
    "    se_sintetico = std_sintetico / np.sqrt(n_sintetico)\n",
    "    ci_sintetico = (mean_sintetico - z * se_sintetico, mean_sintetico + z * se_sintetico)\n",
    "    #imprimo el resultado\n",
    "    print(f\"Algorithm: {algorithm}\")\n",
    "    print(f\"Real: {mean_real:.4f} ({std_real:.4f}) [{n_real}] {ci_real[0]:.4f} - {ci_real[1]:.4f}\", min(df_real_algorithm[\"Silhouette\"]), max(df_real_algorithm[\"Silhouette\"]))\n",
    "    print(f\"Sintetico: {mean_sintetico:.4f} ({std_sintetico:.4f}) [{n_sintetico}] {ci_sintetico[0]:.4f} - {ci_sintetico[1]:.4f}\", min(df_sintetico_algorithm[\"Silhouette\"]), max(df_sintetico_algorithm[\"Silhouette\"]))\n",
    "    print()"
   ]
  }
 ],
 "metadata": {
  "kernelspec": {
   "display_name": "venv3.9",
   "language": "python",
   "name": "python3"
  },
  "language_info": {
   "codemirror_mode": {
    "name": "ipython",
    "version": 3
   },
   "file_extension": ".py",
   "mimetype": "text/x-python",
   "name": "python",
   "nbconvert_exporter": "python",
   "pygments_lexer": "ipython3",
   "version": "3.9.21"
  }
 },
 "nbformat": 4,
 "nbformat_minor": 5
}
