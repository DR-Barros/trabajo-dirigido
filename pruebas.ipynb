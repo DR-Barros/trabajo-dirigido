{
 "cells": [
  {
   "cell_type": "code",
   "execution_count": null,
   "metadata": {},
   "outputs": [],
   "source": [
    "import pandas as pd\n",
    "from dsgd.DSClassifierMultiQ import DSClassifierMultiQ\n",
    "\n",
    "\n",
    "from sklearn.model_selection import train_test_split\n",
    "from sklearn.metrics import accuracy_score, classification_report, confusion_matrix\n",
    "import matplotlib.pyplot as plt\n",
    "\n",
    "# Clasificadores\n",
    "from sklearn.linear_model import LogisticRegression\n",
    "from sklearn.ensemble import RandomForestClassifier\n",
    "from sklearn.svm import SVC\n",
    "from sklearn.neighbors import KNeighborsClassifier\n",
    "\n",
    "accuracys = {}"
   ]
  },
  {
   "cell_type": "code",
   "execution_count": null,
   "metadata": {},
   "outputs": [],
   "source": [
    "data = pd.read_csv('data/nasa.csv')\n",
    "data.drop([\"Neo Reference ID\", \"Name\", \"Close Approach Date\", \"Orbit Determination Date\" ,\"Orbiting Body\", \"Equinox\"] , axis=1, inplace=True)\n",
    "print(\"tamaño del dataset: \", data.shape)\n",
    "print(data.dtypes)"
   ]
  },
  {
   "cell_type": "code",
   "execution_count": null,
   "metadata": {},
   "outputs": [],
   "source": [
    "print(data.head(1))"
   ]
  },
  {
   "cell_type": "code",
   "execution_count": null,
   "metadata": {},
   "outputs": [],
   "source": [
    "data = data.sample(frac=1).reset_index(drop=True)\n",
    "data[\"Hazardous\"] = data[\"Hazardous\"].apply(lambda x: 1 if x == True else 0)\n",
    "# Convert everithing to numeric\n",
    "data = data.apply(pd.to_numeric)\n",
    "cut = int(0.3 * len(data))\n",
    "\n",
    "# Separate the trainig and tesing sets\n",
    "X_train = data.iloc[:cut, :-1].values\n",
    "y_train = data.iloc[:cut, -1].values\n",
    "X_test = data.iloc[cut:, :-1].values\n",
    "y_test = data.iloc[cut:, -1].values"
   ]
  },
  {
   "cell_type": "code",
   "execution_count": null,
   "metadata": {},
   "outputs": [],
   "source": [
    "DSC = DSClassifierMultiQ(2, min_iter=50, max_iter=400, debug_mode=True, \\\n",
    "                         lossfn=\"MSE\", num_workers=0, min_dloss=1e-7, precompute_rules=True)\n",
    "DSC2 = DSClassifierMultiQ(2, min_iter=50, max_iter=400, debug_mode=True, \\\n",
    "                         lossfn=\"MSE\", num_workers=0, min_dloss=1e-7, precompute_rules=True)"
   ]
  },
  {
   "cell_type": "code",
   "execution_count": null,
   "metadata": {},
   "outputs": [],
   "source": [
    "losses, epoch, dt = DSC.fit(X_train, y_train, add_single_rules=True,\n",
    "                            single_rules_breaks=3, add_mult_rules=False,\n",
    "                                column_names=data.columns[:-1], print_every_epochs=31, print_final_model=True)"
   ]
  },
  {
   "cell_type": "code",
   "execution_count": null,
   "metadata": {},
   "outputs": [],
   "source": [
    "losses, epoch, dt = DSC2.fit(X_train, y_train, add_single_rules=True,\n",
    "                            single_rules_breaks=3, add_mult_rules=True,\n",
    "                                column_names=data.columns[:-1], print_every_epochs=31, print_final_model=True)"
   ]
  },
  {
   "cell_type": "code",
   "execution_count": null,
   "metadata": {},
   "outputs": [],
   "source": [
    "# Using the predict method, you can predict the classes of new records\n",
    "# In this case we will predict the testing set\n",
    "y_pred = DSC.predict(X_test)\n",
    "y_pred2 = DSC2.predict(X_test)"
   ]
  },
  {
   "cell_type": "code",
   "execution_count": null,
   "metadata": {},
   "outputs": [],
   "source": [
    "print(classification_report(y_test, y_pred))\n",
    "print(classification_report(y_test, y_pred2))\n",
    "accuracys[\"DSClassifierMultiQ\"] = accuracy_score(y_test, y_pred)\n",
    "accuracys[\"DSClassifierMultiQ2\"] = accuracy_score(y_test, y_pred2)"
   ]
  },
  {
   "cell_type": "code",
   "execution_count": null,
   "metadata": {},
   "outputs": [],
   "source": [
    "print(confusion_matrix(y_test, y_pred,))\n",
    "print(confusion_matrix(y_test, y_pred2,))"
   ]
  },
  {
   "cell_type": "code",
   "execution_count": null,
   "metadata": {},
   "outputs": [],
   "source": [
    "# Global interpretability\n",
    "DSC.print_most_important_rules(classes=[\"no hazzardous\", \"hazzardous\"])"
   ]
  },
  {
   "cell_type": "code",
   "execution_count": null,
   "metadata": {},
   "outputs": [],
   "source": [
    "X = data.drop('Hazardous', axis=1)  # Asumiendo que 'target' es la columna objetivo\n",
    "y = data['Hazardous']\n",
    "\n",
    "X1_train, X1_test, y1_train, y1_test = train_test_split(X, y, test_size=0.25, random_state=42, stratify=y)\n"
   ]
  },
  {
   "cell_type": "code",
   "execution_count": null,
   "metadata": {},
   "outputs": [],
   "source": [
    "# Diccionario de modelos\n",
    "models = {\n",
    "    \"Logistic Regression\": LogisticRegression(),\n",
    "    \"Random Forest\": RandomForestClassifier(max_depth=5),\n",
    "    \"Support Vector Machine\": SVC(),\n",
    "    \"K-Nearest Neighbors\": KNeighborsClassifier()\n",
    "}\n",
    "\n",
    "# Función para entrenar y evaluar modelos\n",
    "def train_and_evaluate(models, X_train, y_train, X_test, y_test):\n",
    "    for name, model in models.items():\n",
    "        model.fit(X_train, y_train)\n",
    "        y_pred = model.predict(X_test)\n",
    "        accuracy = accuracy_score(y_test, y_pred)\n",
    "        accuracys[name] = accuracy\n",
    "        print(f'{name} Accuracy: {accuracy:.4f}')\n",
    "        print(f'Classification Report for {name}:\\n{classification_report(y_test, y_pred)}')\n",
    "        print(f'Confusion Matrix for {name}:\\n{confusion_matrix(y_test, y_pred)}\\n')\n",
    "\n",
    "# Llamada a la función\n",
    "train_and_evaluate(models, X1_train, y1_train, X1_test, y1_test)\n"
   ]
  },
  {
   "cell_type": "code",
   "execution_count": null,
   "metadata": {},
   "outputs": [],
   "source": [
    "for key in accuracys:\n",
    "    print(key, accuracys[key])"
   ]
  }
 ],
 "metadata": {
  "kernelspec": {
   "display_name": "python-env",
   "language": "python",
   "name": "python3"
  },
  "language_info": {
   "codemirror_mode": {
    "name": "ipython",
    "version": 3
   },
   "file_extension": ".py",
   "mimetype": "text/x-python",
   "name": "python",
   "nbconvert_exporter": "python",
   "pygments_lexer": "ipython3",
   "version": "3.10.12"
  }
 },
 "nbformat": 4,
 "nbformat_minor": 2
}
