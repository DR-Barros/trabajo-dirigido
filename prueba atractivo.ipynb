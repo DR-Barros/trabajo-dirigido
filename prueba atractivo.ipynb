{
 "cells": [
  {
   "cell_type": "code",
   "execution_count": null,
   "metadata": {},
   "outputs": [],
   "source": [
    "import pandas as pd\n",
    "import numpy as np\n",
    "\n",
    "from dsgd.DSClassifierMultiQ import DSClassifierMultiQ\n",
    "\n",
    "\n",
    "\n",
    "from sklearn.model_selection import train_test_split\n",
    "from sklearn.metrics import accuracy_score, classification_report, confusion_matrix\n",
    "import matplotlib.pyplot as plt\n",
    "\n",
    "# Clasificadores\n",
    "from sklearn.linear_model import LogisticRegression\n",
    "from sklearn.ensemble import RandomForestClassifier\n",
    "from sklearn.svm import SVC\n",
    "from sklearn.neighbors import KNeighborsClassifier"
   ]
  },
  {
   "cell_type": "markdown",
   "metadata": {},
   "source": [
    "# Exploracion de Datos y pre procesamiento"
   ]
  },
  {
   "cell_type": "code",
   "execution_count": null,
   "metadata": {},
   "outputs": [],
   "source": [
    "data = pd.read_csv('data/list_attr_celeba.csv')\n",
    "print(\"tamaño del dataset: \", data.shape)\n",
    "data = data.drop('image_id', axis=1)\n",
    "data = data.replace(-1, 0)\n",
    "data = data.sample(frac=1).reset_index(drop=True)\n",
    "print(data.dtypes)"
   ]
  },
  {
   "cell_type": "code",
   "execution_count": null,
   "metadata": {},
   "outputs": [],
   "source": [
    "y = data[\"Attractive\"]\n",
    "X = data.drop(columns=[\"Attractive\"])"
   ]
  },
  {
   "cell_type": "markdown",
   "metadata": {},
   "source": [
    "# Testeo de los clasificadores"
   ]
  },
  {
   "cell_type": "code",
   "execution_count": null,
   "metadata": {},
   "outputs": [],
   "source": [
    "X_train, X_test, y_train, y_test = train_test_split(X, y, test_size=0.25, random_state=42, stratify=y)"
   ]
  },
  {
   "cell_type": "code",
   "execution_count": null,
   "metadata": {},
   "outputs": [],
   "source": [
    "# Diccionario de modelos\n",
    "accuracys = {}\n",
    "models = {\n",
    "    \"Logistic Regression\": LogisticRegression(),\n",
    "    \"Random Forest\": RandomForestClassifier(max_depth=5),\n",
    "    \"Support Vector Machine\": SVC(),\n",
    "    \"K-Nearest Neighbors\": KNeighborsClassifier()\n",
    "}\n",
    "\n",
    "# Función para entrenar y evaluar modelos\n",
    "def train_and_evaluate(models, X_train, y_train, X_test, y_test):\n",
    "    for name, model in models.items():\n",
    "        model.fit(X_train, y_train)\n",
    "        y_pred = model.predict(X_test)\n",
    "        accuracy = accuracy_score(y_test, y_pred)\n",
    "        print(f'{name} Accuracy: {accuracy:.4f}')\n",
    "        accuracys[name] = accuracy\n",
    "        print(f'Classification Report for {name}:\\n{classification_report(y_test, y_pred)}')\n",
    "        print(f'Confusion Matrix for {name}:\\n{confusion_matrix(y_test, y_pred)}\\n')\n",
    "        print(f'---------------------------------------------------\\n')\n",
    "\n",
    "# Llamada a la función\n",
    "train_and_evaluate(models, X_train, y_train, X_test, y_test)\n"
   ]
  },
  {
   "cell_type": "markdown",
   "metadata": {},
   "source": [
    "# Testeo del clasificador de DS"
   ]
  },
  {
   "cell_type": "code",
   "execution_count": null,
   "metadata": {},
   "outputs": [],
   "source": [
    "Y = y\n",
    "X = X.apply(pd.to_numeric)\n",
    "\n",
    "cut = int(0.25 * len(data))\n",
    "\n",
    "X_train = X.iloc[:-cut].values\n",
    "X_test = X.iloc[-cut:].values\n",
    "Y_train = Y.iloc[:-cut].values\n",
    "Y_test = Y.iloc[-cut:].values\n",
    "\n",
    "\n",
    "print(len(X_train), len(X_test), len(Y_train), len(Y_test))\n",
    "print(Y.head())\n"
   ]
  },
  {
   "cell_type": "markdown",
   "metadata": {},
   "source": [
    "## clasificador 1"
   ]
  },
  {
   "cell_type": "code",
   "execution_count": null,
   "metadata": {},
   "outputs": [],
   "source": [
    "DSC = DSClassifierMultiQ(2, min_iter=50, max_iter=400, debug_mode=True, \\\n",
    "                         lossfn=\"MSE\", num_workers=0, min_dloss=1e-7, precompute_rules=True)"
   ]
  },
  {
   "cell_type": "code",
   "execution_count": null,
   "metadata": {},
   "outputs": [],
   "source": [
    "losses, epoch, dt = DSC.fit(X_train, Y_train, add_single_rules=True,\n",
    "                            single_rules_breaks=3, add_mult_rules=False,\n",
    "                                column_names=data.columns[:-1], print_every_epochs=31, print_final_model=True)"
   ]
  },
  {
   "cell_type": "code",
   "execution_count": null,
   "metadata": {},
   "outputs": [],
   "source": [
    "DSC.print_most_important_rules(classes=[\"bad appearance\",  \"good appearance\"])"
   ]
  },
  {
   "cell_type": "code",
   "execution_count": null,
   "metadata": {},
   "outputs": [],
   "source": [
    "Y_pred = DSC.predict(X_test)\n",
    "accuracy = accuracy_score(Y_test, Y_pred)\n",
    "accuracys[\"DSClassifierMultiQ\"] = accuracy\n",
    "print(f'Accuracy: {accuracy:.4f}')\n",
    "print(f'Classification Report:\\n{classification_report(Y_test, Y_pred)}')\n",
    "print(f'Confusion Matrix:\\n{confusion_matrix(Y_test, Y_pred)}\\n')"
   ]
  },
  {
   "cell_type": "markdown",
   "metadata": {},
   "source": [
    "## clasifificador 2"
   ]
  },
  {
   "cell_type": "code",
   "execution_count": null,
   "metadata": {},
   "outputs": [],
   "source": [
    "DSC2 = DSClassifierMultiQ(2, min_iter=50, max_iter=400, debug_mode=True, optim=\"sgd\", \\\n",
    "                         lossfn=\"MSE\", num_workers=0, min_dloss=1e-7, precompute_rules=True)"
   ]
  },
  {
   "cell_type": "code",
   "execution_count": null,
   "metadata": {},
   "outputs": [],
   "source": [
    "losses, epoch, dt = DSC2.fit(X_train, Y_train, add_single_rules=True,\n",
    "                            single_rules_breaks=3, add_mult_rules=False,\n",
    "                                column_names=data.columns[:-1], print_every_epochs=31, print_final_model=True)"
   ]
  },
  {
   "cell_type": "code",
   "execution_count": null,
   "metadata": {},
   "outputs": [],
   "source": [
    "DSC2.print_most_important_rules(classes=[\"bad appearance\",  \"good appearance\"])"
   ]
  },
  {
   "cell_type": "code",
   "execution_count": null,
   "metadata": {},
   "outputs": [],
   "source": [
    "Y_pred2 = DSC2.predict(X_test)\n",
    "accuracy = accuracy_score(Y_test, Y_pred2)\n",
    "accuracys[\"DSClassifierMultiQ SGD\"] = accuracy\n",
    "print(f'Accuracy: {accuracy:.4f}')\n",
    "print(f'Classification Report:\\n{classification_report(Y_test, Y_pred2)}')\n",
    "print(f'Confusion Matrix:\\n{confusion_matrix(Y_test, Y_pred2)}\\n')"
   ]
  },
  {
   "cell_type": "markdown",
   "metadata": {},
   "source": [
    "## clasificador 3"
   ]
  },
  {
   "cell_type": "code",
   "execution_count": null,
   "metadata": {},
   "outputs": [],
   "source": [
    "DSC3 = DSClassifierMultiQ(2, min_iter=50, max_iter=400, debug_mode=True, \\\n",
    "                         lossfn=\"CE\", num_workers=0, min_dloss=1e-7, precompute_rules=True)"
   ]
  },
  {
   "cell_type": "code",
   "execution_count": null,
   "metadata": {},
   "outputs": [],
   "source": [
    "losses, epoch, dt = DSC3.fit(X_train, Y_train, add_single_rules=True,\n",
    "                            single_rules_breaks=3, add_mult_rules=False,\n",
    "                                column_names=data.columns[:-1], print_every_epochs=31, print_final_model=True)"
   ]
  },
  {
   "cell_type": "code",
   "execution_count": null,
   "metadata": {},
   "outputs": [],
   "source": [
    "DSC3.print_most_important_rules(classes=[\"bad appearance\",  \"good appearance\"])"
   ]
  },
  {
   "cell_type": "code",
   "execution_count": null,
   "metadata": {},
   "outputs": [],
   "source": [
    "Y_pred3 = DSC3.predict(X_test)\n",
    "accuracy = accuracy_score(Y_test, Y_pred3)\n",
    "accuracys[\"DSClassifierMultiQ CE\"] = accuracy\n",
    "print(f'Accuracy: {accuracy:.4f}')\n",
    "print(f'Classification Report:\\n{classification_report(Y_test, Y_pred3)}')\n",
    "print(f'Confusion Matrix:\\n{confusion_matrix(Y_test, Y_pred3)}\\n')"
   ]
  },
  {
   "cell_type": "markdown",
   "metadata": {},
   "source": [
    "## clasifificador 4"
   ]
  },
  {
   "cell_type": "code",
   "execution_count": null,
   "metadata": {},
   "outputs": [],
   "source": [
    "DSC4 = DSClassifierMultiQ(2, min_iter=50, max_iter=400, debug_mode=True, optim=\"sgd\", \\\n",
    "                         lossfn=\"CE\", num_workers=0, min_dloss=1e-7, precompute_rules=True)"
   ]
  },
  {
   "cell_type": "code",
   "execution_count": null,
   "metadata": {},
   "outputs": [],
   "source": [
    "losses, epoch, dt = DSC4.fit(X_train, Y_train, add_single_rules=True,\n",
    "                            single_rules_breaks=3, add_mult_rules=False,\n",
    "                                column_names=data.columns[:-1], print_every_epochs=31, print_final_model=True)"
   ]
  },
  {
   "cell_type": "code",
   "execution_count": null,
   "metadata": {},
   "outputs": [],
   "source": [
    "DSC4.print_most_important_rules(classes=[\"bad appearance\",  \"good appearance\"])"
   ]
  },
  {
   "cell_type": "code",
   "execution_count": null,
   "metadata": {},
   "outputs": [],
   "source": [
    "Y_pred4 = DSC4.predict(X_test)\n",
    "accuracy = accuracy_score(Y_test, Y_pred4)\n",
    "accuracys[\"DSClassifierMultiQ CE  SGD\"] = accuracy\n",
    "print(f'Accuracy: {accuracy:.4f}')\n",
    "print(f'Classification Report:\\n{classification_report(Y_test, Y_pred4)}')\n",
    "print(f'Confusion Matrix:\\n{confusion_matrix(Y_test, Y_pred4)}\\n')"
   ]
  },
  {
   "cell_type": "markdown",
   "metadata": {},
   "source": [
    "## clasifificador 5"
   ]
  },
  {
   "cell_type": "code",
   "execution_count": null,
   "metadata": {},
   "outputs": [],
   "source": [
    "DSC5 = DSClassifierMultiQ(2, min_iter=50, max_iter=400, debug_mode=True, \\\n",
    "                         lossfn=\"MSE\", num_workers=0, min_dloss=1e-7, precompute_rules=True)"
   ]
  },
  {
   "cell_type": "code",
   "execution_count": null,
   "metadata": {},
   "outputs": [],
   "source": [
    "losses, epoch, dt = DSC5.fit(X_train, Y_train, add_single_rules=True,\n",
    "                            single_rules_breaks=3, add_mult_rules=True,\n",
    "                                column_names=data.columns[:-1], print_every_epochs=31, print_final_model=True)"
   ]
  },
  {
   "cell_type": "code",
   "execution_count": null,
   "metadata": {},
   "outputs": [],
   "source": [
    "DSC5.print_most_important_rules(classes=[\"bad appearance\",  \"good appearance\"])"
   ]
  },
  {
   "cell_type": "code",
   "execution_count": null,
   "metadata": {},
   "outputs": [],
   "source": [
    "Y_pred5 = DSC5.predict(X_test)\n",
    "accuracy = accuracy_score(Y_test, Y_pred5)\n",
    "accuracys[\"DSClassifierMultiQ MSE adam multi-layer\"] = accuracy\n",
    "print(f'Accuracy: {accuracy:.4f}')\n",
    "print(f'Classification Report:\\n{classification_report(Y_test, Y_pred5)}')\n",
    "print(f'Confusion Matrix:\\n{confusion_matrix(Y_test, Y_pred5)}\\n')"
   ]
  },
  {
   "cell_type": "markdown",
   "metadata": {},
   "source": [
    "## resultados"
   ]
  },
  {
   "cell_type": "code",
   "execution_count": null,
   "metadata": {},
   "outputs": [],
   "source": [
    "for key in accuracys:\n",
    "    print(key, accuracys[key])"
   ]
  }
 ],
 "metadata": {
  "kernelspec": {
   "display_name": "python-env",
   "language": "python",
   "name": "python3"
  },
  "language_info": {
   "codemirror_mode": {
    "name": "ipython",
    "version": 3
   },
   "file_extension": ".py",
   "mimetype": "text/x-python",
   "name": "python",
   "nbconvert_exporter": "python",
   "pygments_lexer": "ipython3",
   "version": "3.12.2"
  }
 },
 "nbformat": 4,
 "nbformat_minor": 2
}
