{
 "cells": [
  {
   "cell_type": "markdown",
   "metadata": {},
   "source": [
    "# Resultados"
   ]
  },
  {
   "cell_type": "markdown",
   "metadata": {},
   "source": [
    "## imports"
   ]
  },
  {
   "cell_type": "code",
   "execution_count": 17,
   "metadata": {
    "metadata": {}
   },
   "outputs": [],
   "source": [
    "import pandas as pd\n",
    "import numpy as np\n",
    "\n",
    "from dsgd.DSClassifierMultiQ import DSClassifierMultiQ\n",
    "\n",
    "from sklearn.metrics import accuracy_score, confusion_matrix, classification_report, f1_score"
   ]
  },
  {
   "cell_type": "code",
   "execution_count": 18,
   "metadata": {
    "metadata": {}
   },
   "outputs": [
    {
     "name": "stdout",
     "output_type": "stream",
     "text": [
      "Dataframe shape:  (1400, 27)\n"
     ]
    }
   ],
   "source": [
    "df = pd.read_csv(\"https://huggingface.co/datasets/furrutiav/sac_nllf/raw/main/train.csv\")\n",
    "df = df.drop(columns=['index'])\n",
    "print(\"Dataframe shape: \", df.shape)\n",
    "df.head()\n",
    "test = pd.read_csv(\"https://huggingface.co/datasets/furrutiav/sac_nllf/raw/main/test.csv\")\n",
    "test = test.drop(columns=['index'])"
   ]
  },
  {
   "cell_type": "code",
   "execution_count": 19,
   "metadata": {
    "metadata": {}
   },
   "outputs": [],
   "source": [
    "y = df['label']\n",
    "X = df.drop(columns=['label'])\n",
    "y = y.to_numpy()\n",
    "X = X.to_numpy()    \n",
    "y_test = test['label']\n",
    "X_test = test.drop(columns=['label'])\n",
    "X_test = X_test.to_numpy()\n",
    "y_test = y_test.to_numpy()"
   ]
  },
  {
   "cell_type": "markdown",
   "metadata": {},
   "source": [
    "## Datos completos"
   ]
  },
  {
   "cell_type": "code",
   "execution_count": 20,
   "metadata": {
    "metadata": {}
   },
   "outputs": [
    {
     "data": {
      "text/html": [
       "<div>\n",
       "<style scoped>\n",
       "    .dataframe tbody tr th:only-of-type {\n",
       "        vertical-align: middle;\n",
       "    }\n",
       "\n",
       "    .dataframe tbody tr th {\n",
       "        vertical-align: top;\n",
       "    }\n",
       "\n",
       "    .dataframe thead th {\n",
       "        text-align: right;\n",
       "    }\n",
       "</style>\n",
       "<table border=\"1\" class=\"dataframe\">\n",
       "  <thead>\n",
       "    <tr style=\"text-align: right;\">\n",
       "      <th></th>\n",
       "      <th>lr</th>\n",
       "      <th>bs</th>\n",
       "      <th>mdl</th>\n",
       "      <th>nr</th>\n",
       "      <th>accuracy</th>\n",
       "      <th>f1_micro</th>\n",
       "      <th>f1_macro</th>\n",
       "    </tr>\n",
       "  </thead>\n",
       "  <tbody>\n",
       "    <tr>\n",
       "      <th>5</th>\n",
       "      <td>0.0001</td>\n",
       "      <td>2000</td>\n",
       "      <td>1.000000e-06</td>\n",
       "      <td>7</td>\n",
       "      <td>0.6775</td>\n",
       "      <td>0.6775</td>\n",
       "      <td>0.673366</td>\n",
       "    </tr>\n",
       "    <tr>\n",
       "      <th>26</th>\n",
       "      <td>0.0001</td>\n",
       "      <td>4000</td>\n",
       "      <td>1.000000e-05</td>\n",
       "      <td>7</td>\n",
       "      <td>0.6675</td>\n",
       "      <td>0.6675</td>\n",
       "      <td>0.666748</td>\n",
       "    </tr>\n",
       "    <tr>\n",
       "      <th>16</th>\n",
       "      <td>0.0001</td>\n",
       "      <td>3000</td>\n",
       "      <td>1.000000e-05</td>\n",
       "      <td>5</td>\n",
       "      <td>0.6650</td>\n",
       "      <td>0.6650</td>\n",
       "      <td>0.664790</td>\n",
       "    </tr>\n",
       "    <tr>\n",
       "      <th>10</th>\n",
       "      <td>0.0001</td>\n",
       "      <td>3000</td>\n",
       "      <td>1.000000e-07</td>\n",
       "      <td>5</td>\n",
       "      <td>0.6650</td>\n",
       "      <td>0.6650</td>\n",
       "      <td>0.662264</td>\n",
       "    </tr>\n",
       "    <tr>\n",
       "      <th>4</th>\n",
       "      <td>0.0001</td>\n",
       "      <td>2000</td>\n",
       "      <td>1.000000e-06</td>\n",
       "      <td>5</td>\n",
       "      <td>0.6600</td>\n",
       "      <td>0.6600</td>\n",
       "      <td>0.659864</td>\n",
       "    </tr>\n",
       "  </tbody>\n",
       "</table>\n",
       "</div>"
      ],
      "text/plain": [
       "        lr    bs           mdl  nr  accuracy  f1_micro  f1_macro\n",
       "5   0.0001  2000  1.000000e-06   7    0.6775    0.6775  0.673366\n",
       "26  0.0001  4000  1.000000e-05   7    0.6675    0.6675  0.666748\n",
       "16  0.0001  3000  1.000000e-05   5    0.6650    0.6650  0.664790\n",
       "10  0.0001  3000  1.000000e-07   5    0.6650    0.6650  0.662264\n",
       "4   0.0001  2000  1.000000e-06   5    0.6600    0.6600  0.659864"
      ]
     },
     "execution_count": 20,
     "metadata": {},
     "output_type": "execute_result"
    }
   ],
   "source": [
    "df_results = pd.read_csv('results2.csv')\n",
    "df_results = df_results.sort_values(by='accuracy', ascending=False)\n",
    "df_results.head(5)"
   ]
  },
  {
   "cell_type": "code",
   "execution_count": 21,
   "metadata": {
    "metadata": {}
   },
   "outputs": [
    {
     "name": "stdout",
     "output_type": "stream",
     "text": [
      "Optimization started\n",
      "Processing epoch\t500\t0.2110\t\n",
      "Training time: 1236.51s, epochs: 500\n",
      "\n",
      "Least training loss reached: 0.211\n"
     ]
    }
   ],
   "source": [
    "DSC = DSClassifierMultiQ(2, min_iter=20, max_iter=500, debug_mode=True, lr=0.0001, batch_size=2000,\n",
    "                                lossfn=\"MSE\", num_workers=1, min_dloss=1e-6, precompute_rules=True)\n",
    "\n",
    "losses, epoch, dt = DSC.fit(X, y, add_single_rules=True,\n",
    "                            single_rules_breaks=7, add_mult_rules=False,\n",
    "                                column_names=df.columns[:-1], print_every_epochs=1, print_final_model=False)\n",
    "y_pred = DSC.predict(X_test)\n"
   ]
  },
  {
   "cell_type": "code",
   "execution_count": 22,
   "metadata": {
    "metadata": {}
   },
   "outputs": [
    {
     "name": "stdout",
     "output_type": "stream",
     "text": [
      "Accuracy:  0.64\n",
      "[[105  83]\n",
      " [ 61 151]]\n",
      "              precision    recall  f1-score   support\n",
      "\n",
      "           0       0.63      0.56      0.59       188\n",
      "           1       0.65      0.71      0.68       212\n",
      "\n",
      "    accuracy                           0.64       400\n",
      "   macro avg       0.64      0.64      0.64       400\n",
      "weighted avg       0.64      0.64      0.64       400\n",
      "\n"
     ]
    }
   ],
   "source": [
    "acc = accuracy_score(y_test, y_pred)\n",
    "print(\"Accuracy: \", acc)\n",
    "print(confusion_matrix(y_test, y_pred))\n",
    "print(classification_report(y_test, y_pred))"
   ]
  },
  {
   "cell_type": "code",
   "execution_count": 23,
   "metadata": {
    "metadata": {}
   },
   "outputs": [
    {
     "name": "stdout",
     "output_type": "stream",
     "text": [
      "\n",
      "\n",
      "Most important rules for class 0\n",
      "\n",
      "\t[0.236] R40: b6(Y) < 0.441\n",
      "\t\t\t0: 0.236\t1: 0.000\tUnc: 0.764\n",
      "\n",
      "\t[0.227] R94: 0.960 < b10(Y) < 1.137\n",
      "\t\t\t0: 0.227\t1: 0.000\tUnc: 0.773\n",
      "\n",
      "\t[0.217] R60: 0.669 < b9(Y) < 0.800\n",
      "\t\t\t0: 0.217\t1: 0.000\tUnc: 0.783\n",
      "\n",
      "\t[0.210] R170: -0.014 < b12(Y) < 0.124\n",
      "\t\t\t0: 0.210\t1: 0.000\tUnc: 0.790\n",
      "\n",
      "\t[0.205] R138: 0.717 < b1(Y) < 0.806\n",
      "\t\t\t0: 0.205\t1: 0.000\tUnc: 0.795\n",
      "\n",
      "Most important rules for class 1\n",
      "\n",
      "\t[0.208] R106: 0.276 < b8(Y) < 0.421\n",
      "\t\t\t0: 0.000\t1: 0.208\tUnc: 0.792\n",
      "\n",
      "\t[0.208] R45: 0.930 < b6(Y) < 1.048\n",
      "\t\t\t0: 0.000\t1: 0.208\tUnc: 0.792\n",
      "\n",
      "\t[0.205] R13: 0.975 < b2(Y) < 1.067\n",
      "\t\t\t0: 0.000\t1: 0.205\tUnc: 0.795\n"
     ]
    }
   ],
   "source": [
    "DSC.print_most_important_rules(classes=[\"0\",  \"1\"])"
   ]
  },
  {
   "cell_type": "markdown",
   "metadata": {},
   "source": [
    "## Datos postivos"
   ]
  },
  {
   "cell_type": "markdown",
   "metadata": {},
   "source": [
    "### pre procesado"
   ]
  },
  {
   "cell_type": "code",
   "execution_count": 24,
   "metadata": {
    "metadata": {}
   },
   "outputs": [],
   "source": [
    "df_pos = df.drop(columns=[\"b1(N)\", \"b2(N)\", \"b3(N)\", \"b4(N)\", \"b5(N)\", \"b6(N)\", \"b7(N)\", \"b8(N)\", \"b9(N)\", \"b10(N)\", \"b11(N)\", \"b12(N)\", \"b13(N)\"])\n",
    "test_pos = test.drop(columns=[\"b1(N)\", \"b2(N)\", \"b3(N)\", \"b4(N)\", \"b5(N)\", \"b6(N)\", \"b7(N)\", \"b8(N)\", \"b9(N)\", \"b10(N)\", \"b11(N)\", \"b12(N)\", \"b13(N)\"])\n",
    "y_pos = df_pos['label']\n",
    "X_pos = df_pos.drop(columns=['label'])\n",
    "y_pos = y_pos.to_numpy()\n",
    "X_pos = X_pos.to_numpy()\n",
    "y_test_pos = test_pos['label']\n",
    "X_test_pos = test_pos.drop(columns=['label'])\n",
    "y_test_pos = y_test_pos.to_numpy()\n",
    "X_test_pos = X_test_pos.to_numpy()"
   ]
  },
  {
   "cell_type": "markdown",
   "metadata": {},
   "source": [
    "### resultados"
   ]
  },
  {
   "cell_type": "code",
   "execution_count": 25,
   "metadata": {
    "metadata": {}
   },
   "outputs": [
    {
     "data": {
      "text/html": [
       "<div>\n",
       "<style scoped>\n",
       "    .dataframe tbody tr th:only-of-type {\n",
       "        vertical-align: middle;\n",
       "    }\n",
       "\n",
       "    .dataframe tbody tr th {\n",
       "        vertical-align: top;\n",
       "    }\n",
       "\n",
       "    .dataframe thead th {\n",
       "        text-align: right;\n",
       "    }\n",
       "</style>\n",
       "<table border=\"1\" class=\"dataframe\">\n",
       "  <thead>\n",
       "    <tr style=\"text-align: right;\">\n",
       "      <th></th>\n",
       "      <th>lr</th>\n",
       "      <th>bs</th>\n",
       "      <th>mdl</th>\n",
       "      <th>nr</th>\n",
       "      <th>accuracy</th>\n",
       "      <th>f1_micro</th>\n",
       "      <th>f1_macro</th>\n",
       "    </tr>\n",
       "  </thead>\n",
       "  <tbody>\n",
       "    <tr>\n",
       "      <th>11</th>\n",
       "      <td>0.0001</td>\n",
       "      <td>3000</td>\n",
       "      <td>1.000000e-07</td>\n",
       "      <td>7</td>\n",
       "      <td>0.7000</td>\n",
       "      <td>0.7000</td>\n",
       "      <td>0.697268</td>\n",
       "    </tr>\n",
       "    <tr>\n",
       "      <th>21</th>\n",
       "      <td>0.0001</td>\n",
       "      <td>4000</td>\n",
       "      <td>1.000000e-06</td>\n",
       "      <td>3</td>\n",
       "      <td>0.6825</td>\n",
       "      <td>0.6825</td>\n",
       "      <td>0.680050</td>\n",
       "    </tr>\n",
       "    <tr>\n",
       "      <th>10</th>\n",
       "      <td>0.0001</td>\n",
       "      <td>3000</td>\n",
       "      <td>1.000000e-07</td>\n",
       "      <td>5</td>\n",
       "      <td>0.6800</td>\n",
       "      <td>0.6800</td>\n",
       "      <td>0.677939</td>\n",
       "    </tr>\n",
       "    <tr>\n",
       "      <th>19</th>\n",
       "      <td>0.0001</td>\n",
       "      <td>4000</td>\n",
       "      <td>1.000000e-07</td>\n",
       "      <td>5</td>\n",
       "      <td>0.6775</td>\n",
       "      <td>0.6775</td>\n",
       "      <td>0.676024</td>\n",
       "    </tr>\n",
       "    <tr>\n",
       "      <th>25</th>\n",
       "      <td>0.0001</td>\n",
       "      <td>4000</td>\n",
       "      <td>1.000000e-05</td>\n",
       "      <td>5</td>\n",
       "      <td>0.6775</td>\n",
       "      <td>0.6775</td>\n",
       "      <td>0.677256</td>\n",
       "    </tr>\n",
       "  </tbody>\n",
       "</table>\n",
       "</div>"
      ],
      "text/plain": [
       "        lr    bs           mdl  nr  accuracy  f1_micro  f1_macro\n",
       "11  0.0001  3000  1.000000e-07   7    0.7000    0.7000  0.697268\n",
       "21  0.0001  4000  1.000000e-06   3    0.6825    0.6825  0.680050\n",
       "10  0.0001  3000  1.000000e-07   5    0.6800    0.6800  0.677939\n",
       "19  0.0001  4000  1.000000e-07   5    0.6775    0.6775  0.676024\n",
       "25  0.0001  4000  1.000000e-05   5    0.6775    0.6775  0.677256"
      ]
     },
     "execution_count": 25,
     "metadata": {},
     "output_type": "execute_result"
    }
   ],
   "source": [
    "df_results_pos = pd.read_csv('results_pos.csv')\n",
    "df_results_pos = df_results_pos.sort_values(by='accuracy', ascending=False)\n",
    "df_results_pos.head(5)"
   ]
  },
  {
   "cell_type": "code",
   "execution_count": 26,
   "metadata": {
    "metadata": {}
   },
   "outputs": [
    {
     "name": "stdout",
     "output_type": "stream",
     "text": [
      "Optimization started\n",
      "Processing epoch\t1\t1.0000\t"
     ]
    },
    {
     "name": "stdout",
     "output_type": "stream",
     "text": [
      "Processing epoch\t500\t0.2183\t\n",
      "Training time: 1251.79s, epochs: 500\n",
      "\n",
      "Least training loss reached: 0.218\n"
     ]
    }
   ],
   "source": [
    "DSC_pos = DSClassifierMultiQ(2, min_iter=20, max_iter=500, debug_mode=True, lr=0.0001, batch_size=3000,\n",
    "                                lossfn=\"MSE\", num_workers=1, min_dloss=1e-7, precompute_rules=True)\n",
    "\n",
    "losses_pos, epoch_pos, dt_pos = DSC_pos.fit(X_pos, y_pos, add_single_rules=True,\n",
    "                            single_rules_breaks=7, add_mult_rules=False,\n",
    "                                column_names=df_pos.columns[:-1], print_every_epochs=1, print_final_model=False)\n",
    "\n",
    "y_pred_pos = DSC_pos.predict(X_test_pos)"
   ]
  },
  {
   "cell_type": "code",
   "execution_count": 27,
   "metadata": {
    "metadata": {}
   },
   "outputs": [
    {
     "name": "stdout",
     "output_type": "stream",
     "text": [
      "Accuracy:  0.6675\n",
      "[[106  82]\n",
      " [ 51 161]]\n",
      "              precision    recall  f1-score   support\n",
      "\n",
      "           0       0.68      0.56      0.61       188\n",
      "           1       0.66      0.76      0.71       212\n",
      "\n",
      "    accuracy                           0.67       400\n",
      "   macro avg       0.67      0.66      0.66       400\n",
      "weighted avg       0.67      0.67      0.66       400\n",
      "\n"
     ]
    }
   ],
   "source": [
    "acc_pos = accuracy_score(y_test_pos, y_pred_pos)\n",
    "print(\"Accuracy: \", acc_pos)\n",
    "print(confusion_matrix(y_test_pos, y_pred_pos))\n",
    "print(classification_report(y_test_pos, y_pred_pos))"
   ]
  },
  {
   "cell_type": "code",
   "execution_count": 40,
   "metadata": {
    "metadata": {}
   },
   "outputs": [
    {
     "name": "stdout",
     "output_type": "stream",
     "text": [
      "\n",
      "\n",
      "Most important rules for class 0\n",
      "\n",
      "\t[0.228] R46: 0.960 < b10(Y) < 1.137\n",
      "\t\t\t0: 0.228\t1: 0.000\tUnc: 0.772\n",
      "\n",
      "\t[0.227] R17: 0.441 < b6(Y) < 0.600\n",
      "\t\t\t0: 0.227\t1: 0.000\tUnc: 0.773\n",
      "\n",
      "\t[0.217] R89: -0.155 < b11(Y) < 0.044\n",
      "\t\t\t0: 0.217\t1: 0.000\tUnc: 0.783\n",
      "\n",
      "\t[0.216] R20: 0.824 < b6(Y) < 0.930\n",
      "\t\t\t0: 0.216\t1: 0.000\tUnc: 0.784\n",
      "\n",
      "\t[0.215] R8: b7(Y) < 0.611\n",
      "\t\t\t0: 0.215\t1: 0.000\tUnc: 0.785\n",
      "\n",
      "\t[0.203] R65: 0.597 < b1(Y) < 0.717\n",
      "\t\t\t0: 0.203\t1: 0.000\tUnc: 0.797\n",
      "\n",
      "\t[0.193] R37: 1.014 < b5(Y) < 1.050\n",
      "\t\t\t0: 0.186\t1: 0.014\tUnc: 0.800\n",
      "\n",
      "\t[0.192] R73: 0.255 < b3(Y) < 0.438\n",
      "\t\t\t0: 0.186\t1: 0.014\tUnc: 0.801\n",
      "\n",
      "\t[0.190] R100: 0.299 < b13(Y) < 0.430\n",
      "\t\t\t0: 0.181\t1: 0.018\tUnc: 0.800\n",
      "\n",
      "Most important rules for class 1\n",
      "\n",
      "\t[0.223] R69: 0.967 < b1(Y) < 1.056\n",
      "\t\t\t0: 0.000\t1: 0.223\tUnc: 0.777\n",
      "\n",
      "\t[0.196] R55: b8(Y) > 1.022\n",
      "\t\t\t0: 0.008\t1: 0.192\tUnc: 0.800\n",
      "\n",
      "\t[0.196] R79: b3(Y) > 1.141\n",
      "\t\t\t0: 0.009\t1: 0.191\tUnc: 0.800\n",
      "\n",
      "\t[0.191] R13: 0.932 < b7(Y) < 1.009\n",
      "\t\t\t0: 0.014\t1: 0.184\tUnc: 0.803\n"
     ]
    }
   ],
   "source": [
    "DSC_pos.print_most_important_rules(classes=[\"0\",  \"1\"], threshold=0.19)"
   ]
  },
  {
   "cell_type": "markdown",
   "metadata": {},
   "source": [
    "## Datos negativos"
   ]
  },
  {
   "cell_type": "markdown",
   "metadata": {},
   "source": [
    "### Preprocesado"
   ]
  },
  {
   "cell_type": "code",
   "execution_count": 29,
   "metadata": {
    "metadata": {}
   },
   "outputs": [],
   "source": [
    "df_neg = df.drop(columns=[\"b1(Y)\", \"b2(Y)\", \"b3(Y)\", \"b4(Y)\", \"b5(Y)\", \"b6(Y)\", \"b7(Y)\", \"b8(Y)\", \"b9(Y)\", \"b10(Y)\", \"b11(Y)\", \"b12(Y)\", \"b13(Y)\"])\n",
    "test_neg = test.drop(columns=[\"b1(Y)\", \"b2(Y)\", \"b3(Y)\", \"b4(Y)\", \"b5(Y)\", \"b6(Y)\", \"b7(Y)\", \"b8(Y)\", \"b9(Y)\", \"b10(Y)\", \"b11(Y)\", \"b12(Y)\", \"b13(Y)\"])\n",
    "y_neg = df_neg['label']\n",
    "X_neg = df_neg.drop(columns=['label'])\n",
    "y_neg = y_neg.to_numpy()\n",
    "X_neg = X_neg.to_numpy()\n",
    "y_test_neg = test_neg['label']\n",
    "X_test_neg = test_neg.drop(columns=['label'])\n",
    "y_test_neg = y_test_neg.to_numpy()\n",
    "X_test_neg = X_test_neg.to_numpy()"
   ]
  },
  {
   "cell_type": "markdown",
   "metadata": {},
   "source": [
    "### Resultados"
   ]
  },
  {
   "cell_type": "code",
   "execution_count": 30,
   "metadata": {
    "metadata": {}
   },
   "outputs": [
    {
     "data": {
      "text/html": [
       "<div>\n",
       "<style scoped>\n",
       "    .dataframe tbody tr th:only-of-type {\n",
       "        vertical-align: middle;\n",
       "    }\n",
       "\n",
       "    .dataframe tbody tr th {\n",
       "        vertical-align: top;\n",
       "    }\n",
       "\n",
       "    .dataframe thead th {\n",
       "        text-align: right;\n",
       "    }\n",
       "</style>\n",
       "<table border=\"1\" class=\"dataframe\">\n",
       "  <thead>\n",
       "    <tr style=\"text-align: right;\">\n",
       "      <th></th>\n",
       "      <th>lr</th>\n",
       "      <th>bs</th>\n",
       "      <th>mdl</th>\n",
       "      <th>nr</th>\n",
       "      <th>accuracy</th>\n",
       "      <th>f1_micro</th>\n",
       "      <th>f1_macro</th>\n",
       "    </tr>\n",
       "  </thead>\n",
       "  <tbody>\n",
       "    <tr>\n",
       "      <th>16</th>\n",
       "      <td>0.0001</td>\n",
       "      <td>3000</td>\n",
       "      <td>1.000000e-05</td>\n",
       "      <td>5</td>\n",
       "      <td>0.6900</td>\n",
       "      <td>0.6900</td>\n",
       "      <td>0.689930</td>\n",
       "    </tr>\n",
       "    <tr>\n",
       "      <th>13</th>\n",
       "      <td>0.0001</td>\n",
       "      <td>3000</td>\n",
       "      <td>1.000000e-06</td>\n",
       "      <td>5</td>\n",
       "      <td>0.6800</td>\n",
       "      <td>0.6800</td>\n",
       "      <td>0.679800</td>\n",
       "    </tr>\n",
       "    <tr>\n",
       "      <th>9</th>\n",
       "      <td>0.0001</td>\n",
       "      <td>3000</td>\n",
       "      <td>1.000000e-07</td>\n",
       "      <td>3</td>\n",
       "      <td>0.6750</td>\n",
       "      <td>0.6750</td>\n",
       "      <td>0.673400</td>\n",
       "    </tr>\n",
       "    <tr>\n",
       "      <th>6</th>\n",
       "      <td>0.0001</td>\n",
       "      <td>2000</td>\n",
       "      <td>1.000000e-05</td>\n",
       "      <td>3</td>\n",
       "      <td>0.6700</td>\n",
       "      <td>0.6700</td>\n",
       "      <td>0.667874</td>\n",
       "    </tr>\n",
       "    <tr>\n",
       "      <th>12</th>\n",
       "      <td>0.0001</td>\n",
       "      <td>3000</td>\n",
       "      <td>1.000000e-06</td>\n",
       "      <td>3</td>\n",
       "      <td>0.6675</td>\n",
       "      <td>0.6675</td>\n",
       "      <td>0.665491</td>\n",
       "    </tr>\n",
       "  </tbody>\n",
       "</table>\n",
       "</div>"
      ],
      "text/plain": [
       "        lr    bs           mdl  nr  accuracy  f1_micro  f1_macro\n",
       "16  0.0001  3000  1.000000e-05   5    0.6900    0.6900  0.689930\n",
       "13  0.0001  3000  1.000000e-06   5    0.6800    0.6800  0.679800\n",
       "9   0.0001  3000  1.000000e-07   3    0.6750    0.6750  0.673400\n",
       "6   0.0001  2000  1.000000e-05   3    0.6700    0.6700  0.667874\n",
       "12  0.0001  3000  1.000000e-06   3    0.6675    0.6675  0.665491"
      ]
     },
     "execution_count": 30,
     "metadata": {},
     "output_type": "execute_result"
    }
   ],
   "source": [
    "df_results_neg = pd.read_csv('results_neg.csv')\n",
    "df_results_neg = df_results_neg.sort_values(by='accuracy', ascending=False)\n",
    "df_results_neg.head(5)"
   ]
  },
  {
   "cell_type": "code",
   "execution_count": 31,
   "metadata": {
    "metadata": {}
   },
   "outputs": [
    {
     "name": "stdout",
     "output_type": "stream",
     "text": [
      "Optimization started\n",
      "Processing epoch\t1\t1.0000\t"
     ]
    },
    {
     "name": "stdout",
     "output_type": "stream",
     "text": [
      "Processing epoch\t500\t0.2176\t\n",
      "Training time: 1344.71s, epochs: 500\n",
      "\n",
      "Least training loss reached: 0.218\n"
     ]
    }
   ],
   "source": [
    "DSC_neg = DSClassifierMultiQ(2, min_iter=20, max_iter=500, debug_mode=True, lr=0.0001, batch_size=3000,\n",
    "                                lossfn=\"MSE\", num_workers=1, min_dloss=1e-5, precompute_rules=True)\n",
    "\n",
    "losses_neg, epoch_neg, dt_neg = DSC_neg.fit(X_neg, y_neg, add_single_rules=True,\n",
    "                            single_rules_breaks=5, add_mult_rules=False,\n",
    "                                column_names=df_neg.columns[:-1], print_every_epochs=1, print_final_model=False)\n",
    "\n",
    "y_pred_neg = DSC_neg.predict(X_test_neg)"
   ]
  },
  {
   "cell_type": "code",
   "execution_count": 32,
   "metadata": {
    "metadata": {}
   },
   "outputs": [
    {
     "name": "stdout",
     "output_type": "stream",
     "text": [
      "Accuracy:  0.6725\n",
      "[[126  62]\n",
      " [ 69 143]]\n",
      "              precision    recall  f1-score   support\n",
      "\n",
      "           0       0.65      0.67      0.66       188\n",
      "           1       0.70      0.67      0.69       212\n",
      "\n",
      "    accuracy                           0.67       400\n",
      "   macro avg       0.67      0.67      0.67       400\n",
      "weighted avg       0.67      0.67      0.67       400\n",
      "\n"
     ]
    }
   ],
   "source": [
    "acc_neg = accuracy_score(y_test_neg, y_pred_neg)\n",
    "print(\"Accuracy: \", acc_neg)\n",
    "print(confusion_matrix(y_test_neg, y_pred_neg))\n",
    "print(classification_report(y_test_neg, y_pred_neg))"
   ]
  },
  {
   "cell_type": "code",
   "execution_count": 41,
   "metadata": {
    "metadata": {}
   },
   "outputs": [
    {
     "name": "stdout",
     "output_type": "stream",
     "text": [
      "\n",
      "\n",
      "Most important rules for class 0\n",
      "\n",
      "\t[0.210] R59: b3(N) > 0.651\n",
      "\t\t\t0: 0.210\t1: 0.000\tUnc: 0.790\n",
      "\n",
      "\t[0.209] R70: 0.865 < b11(N) < 1.084\n",
      "\t\t\t0: 0.209\t1: 0.000\tUnc: 0.791\n",
      "\n",
      "\t[0.201] R57: 0.291 < b3(N) < 0.451\n",
      "\t\t\t0: 0.201\t1: 0.000\tUnc: 0.799\n",
      "\n",
      "\t[0.199] R3: 0.096 < b2(N) < 0.202\n",
      "\t\t\t0: 0.199\t1: 0.000\tUnc: 0.801\n",
      "\n",
      "\t[0.197] R36: b8(N) < 0.029\n",
      "\t\t\t0: 0.195\t1: 0.005\tUnc: 0.800\n",
      "\n",
      "\t[0.196] R2: -0.010 < b2(N) < 0.096\n",
      "\t\t\t0: 0.193\t1: 0.006\tUnc: 0.800\n",
      "\n",
      "\t[0.193] R15: 0.201 < b6(N) < 0.350\n",
      "\t\t\t0: 0.186\t1: 0.013\tUnc: 0.801\n",
      "\n",
      "Most important rules for class 1\n",
      "\n",
      "\t[0.242] R60: b12(N) < 0.403\n",
      "\t\t\t0: 0.000\t1: 0.242\tUnc: 0.758\n",
      "\n",
      "\t[0.241] R63: 0.766 < b12(N) < 0.928\n",
      "\t\t\t0: 0.000\t1: 0.241\tUnc: 0.759\n",
      "\n",
      "\t[0.235] R22: 0.477 < b9(N) < 0.689\n",
      "\t\t\t0: 0.000\t1: 0.235\tUnc: 0.765\n",
      "\n",
      "\t[0.230] R13: -0.135 < b6(N) < 0.052\n",
      "\t\t\t0: 0.000\t1: 0.230\tUnc: 0.770\n",
      "\n",
      "\t[0.200] R18: b9(N) < -0.075\n",
      "\t\t\t0: 0.000\t1: 0.200\tUnc: 0.800\n",
      "\n",
      "\t[0.200] R6: b7(N) < -0.076\n",
      "\t\t\t0: 0.001\t1: 0.199\tUnc: 0.800\n",
      "\n",
      "\t[0.197] R25: -0.077 < b5(N) < -0.024\n",
      "\t\t\t0: 0.006\t1: 0.194\tUnc: 0.800\n"
     ]
    }
   ],
   "source": [
    "DSC_neg.print_most_important_rules(classes=[\"0\",  \"1\"], threshold=0.19)"
   ]
  }
 ],
 "metadata": {
  "kernelspec": {
   "display_name": "python-env",
   "language": "python",
   "name": "python3"
  },
  "language_info": {
   "codemirror_mode": {
    "name": "ipython",
    "version": 3
   },
   "file_extension": ".py",
   "mimetype": "text/x-python",
   "name": "python",
   "nbconvert_exporter": "python",
   "pygments_lexer": "ipython3",
   "version": "3.12.2"
  }
 },
 "nbformat": 4,
 "nbformat_minor": 2
}
