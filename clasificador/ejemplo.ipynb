{
 "cells": [
  {
   "cell_type": "code",
   "execution_count": 19,
   "id": "94819f44",
   "metadata": {},
   "outputs": [],
   "source": [
    "import pandas as pd\n",
    "import numpy as np\n",
    "from sklearn.datasets import load_iris,load_wine\n",
    "from dsgd import DSClassifierMultiQ"
   ]
  },
  {
   "cell_type": "code",
   "execution_count": 91,
   "id": "5e95fe65",
   "metadata": {},
   "outputs": [],
   "source": [
    "iris = load_iris()\n",
    "X = iris.data\n",
    "y = iris.target\n",
    "np.random.seed(42)\n",
    "indices = np.arange(X.shape[0])\n",
    "np.random.shuffle(indices)\n",
    "X = X[indices]\n",
    "y = y[indices]\n",
    "X_train = X[:100]\n",
    "y_train = y[:100]\n",
    "X_test = X[100:]\n",
    "y_test = y[100:]"
   ]
  },
  {
   "cell_type": "code",
   "execution_count": 95,
   "id": "141c073c",
   "metadata": {},
   "outputs": [
    {
     "name": "stdout",
     "output_type": "stream",
     "text": [
      "Optimization started\n",
      "Processing epoch\t150\t0.0273\t\n",
      "Training time: 15.54s, epochs: 150\n",
      "\n",
      "Least training loss reached: 0.027\n"
     ]
    }
   ],
   "source": [
    "DSC = DSClassifierMultiQ(3, max_iter=150, debug_mode=True, lossfn=\"MSE\", min_dloss=0.0001, lr=0.005, precompute_rules=True)\n",
    "losses, epoch, dt = DSC.fit(X_train, y_train, add_single_rules=True, single_rules_breaks=3, add_mult_rules=False, column_names=iris.feature_names, print_every_epochs=1, print_final_model=False)"
   ]
  },
  {
   "cell_type": "code",
   "execution_count": null,
   "id": "3a8d9db3",
   "metadata": {},
   "outputs": [
    {
     "name": "stdout",
     "output_type": "stream",
     "text": [
      "\n",
      "\n",
      "Most important rules for class 0\n",
      "\n",
      "\t[0.574] R1: 5.239 < sepal length (cm) < 5.798\n",
      "\t\t\t0: 0.413\t1: 0.373\t2: 0.012\tUnc: 0.202\n",
      "\n",
      "\t[0.537] R8: petal length (cm) < 2.425\n",
      "\t\t\t0: 0.537\t1: 0.000\t2: 0.000\tUnc: 0.463\n",
      "\n",
      "\t[0.523] R12: petal width (cm) < 0.628\n",
      "\t\t\t0: 0.523\t1: 0.000\t2: 0.000\tUnc: 0.477\n",
      "\n",
      "Most important rules for class 1\n",
      "\n",
      "\t[0.643] R9: 2.425 < petal length (cm) < 3.635\n",
      "\t\t\t0: 0.000\t1: 0.643\t2: 0.000\tUnc: 0.357\n",
      "\n",
      "\t[0.636] R10: 3.635 < petal length (cm) < 4.845\n",
      "\t\t\t0: 0.000\t1: 0.636\t2: 0.000\tUnc: 0.364\n",
      "\n",
      "\t[0.616] R4: sepal width (cm) < 2.762\n",
      "\t\t\t0: 0.000\t1: 0.423\t2: 0.473\tUnc: 0.104\n",
      "\n",
      "\t[0.576] R14: 1.144 < petal width (cm) < 1.660\n",
      "\t\t\t0: 0.000\t1: 0.576\t2: 0.000\tUnc: 0.424\n",
      "\n",
      "\t[0.546] R1: 5.239 < sepal length (cm) < 5.798\n",
      "\t\t\t0: 0.413\t1: 0.373\t2: 0.012\tUnc: 0.202\n",
      "\n",
      "\t[0.545] R2: 5.798 < sepal length (cm) < 6.357\n",
      "\t\t\t0: 0.000\t1: 0.344\t2: 0.520\tUnc: 0.136\n",
      "\n",
      "\t[0.539] R13: 0.628 < petal width (cm) < 1.144\n",
      "\t\t\t0: 0.000\t1: 0.539\t2: 0.000\tUnc: 0.461\n",
      "\n",
      "Most important rules for class 2\n",
      "\n",
      "\t[0.670] R2: 5.798 < sepal length (cm) < 6.357\n",
      "\t\t\t0: 0.000\t1: 0.344\t2: 0.520\tUnc: 0.136\n",
      "\n",
      "\t[0.651] R4: sepal width (cm) < 2.762\n",
      "\t\t\t0: 0.000\t1: 0.423\t2: 0.473\tUnc: 0.104\n",
      "\n",
      "\t[0.574] R3: sepal length (cm) > 6.357\n",
      "\t\t\t0: 0.000\t1: 0.113\t2: 0.520\tUnc: 0.367\n",
      "\n",
      "\t[0.556] R11: petal length (cm) > 4.845\n",
      "\t\t\t0: 0.000\t1: 0.000\t2: 0.556\tUnc: 0.444\n",
      "\n",
      "\t[0.534] R15: petal width (cm) > 1.660\n",
      "\t\t\t0: 0.000\t1: 0.000\t2: 0.534\tUnc: 0.466\n"
     ]
    }
   ],
   "source": [
    "DSC.print_most_important_rules(threshold=0.5)"
   ]
  },
  {
   "cell_type": "code",
   "execution_count": 96,
   "id": "127c541c",
   "metadata": {},
   "outputs": [
    {
     "name": "stdout",
     "output_type": "stream",
     "text": [
      "Predicción de los valores:  [0 2]\n"
     ]
    }
   ],
   "source": [
    "#predecir 2 valores\n",
    "X_val = np.array([[5.0, 3.6, 1.4, 0.2], [6.0, 1.6, 2.4, np.nan]])\n",
    "y_val = DSC.predict(X_val, one_hot=False)\n",
    "print(\"Predicción de los valores: \", y_val)"
   ]
  },
  {
   "cell_type": "code",
   "execution_count": 97,
   "id": "96b42dc3",
   "metadata": {},
   "outputs": [
    {
     "name": "stdout",
     "output_type": "stream",
     "text": [
      "Valor del punto ([5.  3.6 1.4 0.2]):  [0.8973639  0.05131807 0.05131807]\n",
      "Regla:  [0, 7, 8, 12]\n",
      "Regla:  sepal length (cm) < 5.239\n",
      "Pesos:  [0.46178505 0.         0.         0.5382149 ]\n",
      "Regla:  sepal width (cm) > 3.386\n",
      "Pesos:  [0.46807376 0.         0.         0.5319263 ]\n",
      "Regla:  petal length (cm) < 2.425\n",
      "Pesos:  [0.52823305 0.         0.         0.47176692]\n",
      "Regla:  petal width (cm) < 0.628\n",
      "Pesos:  [0.57658416 0.         0.         0.4234158 ]\n",
      "Valor del punto ([6.  1.6 2.4 nan]):  [0.03512089 0.41067928 0.5541998 ]\n",
      "Regla:  [2, 4, 8]\n",
      "Regla:  5.798 < sepal length (cm) < 6.357\n",
      "Pesos:  [0.         0.36198312 0.5162954  0.12172149]\n",
      "Regla:  sepal width (cm) < 2.762\n",
      "Pesos:  [0.         0.45076907 0.463162   0.08606894]\n",
      "Regla:  petal length (cm) < 2.425\n",
      "Pesos:  [0.52823305 0.         0.         0.47176692]\n"
     ]
    }
   ],
   "source": [
    "import torch\n",
    "DSC.model.eval()\n",
    "DSC.model.clear_rmap()\n",
    "\n",
    "if \"values\" in dir(X_val):\n",
    "    X_val = X_val.values\n",
    "X_val = np.insert(X_val, 0, values=np.arange(0, len(X_val)), axis=1)\n",
    "with torch.no_grad():\n",
    "    Xt = torch.Tensor(X_val).to(DSC.device)\n",
    "    y_val = DSC.model(Xt).numpy()\n",
    "    #diferencia con como se predice con defecto\n",
    "    for r in DSC.model.rmap:\n",
    "        print(f\"Valor del punto ({X_val[r][1:]}): \", y_val[r])\n",
    "        print(\"Regla: \", DSC.model.rmap[r])\n",
    "        preds = [DSC.model.preds[i] for i in DSC.model.rmap[r]]\n",
    "        params = [DSC.model._params[i] for i in DSC.model.rmap[r]]\n",
    "        for i in range(len(preds)):\n",
    "            print(\"Regla: \", preds[i].caption)\n",
    "            print(\"Pesos: \", params[i].detach().numpy())\n",
    "        \"\"\" data = []\n",
    "        for i in range(len(preds)):\n",
    "            param_values = params[i].detach().numpy().tolist()\n",
    "            row = {\"Reglas\": preds[i].caption}\n",
    "            for j, val in enumerate(param_values):\n",
    "                row[f\"Parametro_{j}\"] = val\n",
    "            data.append(row)\n",
    "        df = pd.DataFrame(data)\n",
    "        print(df) \"\"\"\n"
   ]
  },
  {
   "cell_type": "code",
   "execution_count": 8,
   "id": "405416e7",
   "metadata": {},
   "outputs": [
    {
     "name": "stdout",
     "output_type": "stream",
     "text": [
      "Columnas:  ['sepal length (cm)', 'sepal width (cm)', 'petal length (cm)', 'petal width (cm)']\n"
     ]
    }
   ],
   "source": [
    "print(\"Columnas: \", iris.feature_names)"
   ]
  },
  {
   "cell_type": "code",
   "execution_count": 94,
   "id": "e36b63af",
   "metadata": {},
   "outputs": [
    {
     "name": "stdout",
     "output_type": "stream",
     "text": [
      "Optimization started\n",
      "Processing epoch\t118\t0.1219\t\n",
      "Training time: 13.22s, epochs: 118\n",
      "\n",
      "Least training loss reached: 0.122\n",
      "\n",
      "\n",
      "Most important rules for class 0\n",
      "\n",
      "\t[0.546] R7: Regla de ejemplo con petal width (cm) menor a 1\n",
      "\t\t\t0: 0.546\t1: 0.000\t2: 0.000\tUnc: 0.454\n",
      "\n",
      "\t[0.502] R0: Regla de ejemplo con sepal length (cm) mayor a 1\n",
      "\t\t\t0: 0.502\t1: 0.000\t2: 0.000\tUnc: 0.498\n",
      "\n",
      "Most important rules for class 1\n",
      "\n",
      "\t[0.684] R6: Regla de ejemplo con petal width (cm) mayor a 1\n",
      "\t\t\t0: 0.000\t1: 0.468\t2: 0.532\tUnc: 0.000\n",
      "\n",
      "Most important rules for class 2\n",
      "\n",
      "\t[0.729] R6: Regla de ejemplo con petal width (cm) mayor a 1\n",
      "\t\t\t0: 0.000\t1: 0.468\t2: 0.532\tUnc: 0.000\n"
     ]
    }
   ],
   "source": [
    "from dsgd import DSRule\n",
    "DSC = DSClassifierMultiQ(3, max_iter=150, debug_mode=True, lossfn=\"MSE\", min_dloss=0.0001, lr=0.005, precompute_rules=True)\n",
    "DSC.model.add_rule(DSRule(lambda x: x[0] > 1, \"Regla de ejemplo con sepal length (cm) mayor a 1\"))\n",
    "DSC.model.add_rule(DSRule(lambda x: x[0] < 1, \"Regla de ejemplo con sepal length (cm) menor a 1\"))\n",
    "DSC.model.add_rule(DSRule(lambda x: x[1] > 1, \"Regla de ejemplo con sepal width (cm) mayor a 1\"))\n",
    "DSC.model.add_rule(DSRule(lambda x: x[1] < 1, \"Regla de ejemplo con sepal width (cm) menor a 1\"))\n",
    "DSC.model.add_rule(DSRule(lambda x: x[2] > 1, \"Regla de ejemplo con petal length (cm) mayor a 1\"))\n",
    "DSC.model.add_rule(DSRule(lambda x: x[2] < 1, \"Regla de ejemplo con petal length (cm) menor a 1\"))\n",
    "DSC.model.add_rule(DSRule(lambda x: x[3] > 1, \"Regla de ejemplo con petal width (cm) mayor a 1\"))\n",
    "DSC.model.add_rule(DSRule(lambda x: x[3] < 1, \"Regla de ejemplo con petal width (cm) menor a 1\"))\n",
    "losses, epoch, dt = DSC.fit(X_train, y_train, add_single_rules=False, add_mult_rules=False, column_names=iris.feature_names, print_every_epochs=1, print_final_model=False)\n",
    "DSC.print_most_important_rules(threshold=0.5)"
   ]
  }
 ],
 "metadata": {
  "kernelspec": {
   "display_name": ".venv",
   "language": "python",
   "name": "python3"
  },
  "language_info": {
   "codemirror_mode": {
    "name": "ipython",
    "version": 3
   },
   "file_extension": ".py",
   "mimetype": "text/x-python",
   "name": "python",
   "nbconvert_exporter": "python",
   "pygments_lexer": "ipython3",
   "version": "3.12.3"
  }
 },
 "nbformat": 4,
 "nbformat_minor": 5
}
