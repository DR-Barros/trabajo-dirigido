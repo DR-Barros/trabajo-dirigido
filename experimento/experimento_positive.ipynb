{
 "cells": [
  {
   "cell_type": "code",
   "execution_count": 6,
   "metadata": {},
   "outputs": [],
   "source": [
    "import pandas as pd\n",
    "import numpy as np\n",
    "\n",
    "from dsgd.DSClassifierMultiQ import DSClassifierMultiQ\n",
    "\n",
    "from sklearn.metrics import accuracy_score, confusion_matrix, f1_score\n"
   ]
  },
  {
   "cell_type": "code",
   "execution_count": 7,
   "metadata": {},
   "outputs": [
    {
     "name": "stdout",
     "output_type": "stream",
     "text": [
      "Dataframe shape:  (1400, 14)\n",
      "Dataframe shape:  (400, 14)\n"
     ]
    }
   ],
   "source": [
    "df = pd.read_csv(\"https://huggingface.co/datasets/furrutiav/sac_nllf/raw/main/train.csv\")\n",
    "df = df.drop(columns=['index', \"b1(N)\", \"b2(N)\", \"b3(N)\", \"b4(N)\", \"b5(N)\", \"b6(N)\", \"b7(N)\", \"b8(N)\", \"b9(N)\", \"b10(N)\", \"b11(N)\", \"b12(N)\", \"b13(N)\"])\n",
    "print(\"Dataframe shape: \", df.shape)\n",
    "df.head()\n",
    "test = pd.read_csv(\"https://huggingface.co/datasets/furrutiav/sac_nllf/raw/main/test.csv\")\n",
    "test = test.drop(columns=['index', \"b1(N)\", \"b2(N)\", \"b3(N)\", \"b4(N)\", \"b5(N)\", \"b6(N)\", \"b7(N)\", \"b8(N)\", \"b9(N)\", \"b10(N)\", \"b11(N)\", \"b12(N)\", \"b13(N)\"])\n",
    "print(\"Dataframe shape: \", test.shape)"
   ]
  },
  {
   "cell_type": "code",
   "execution_count": 8,
   "metadata": {},
   "outputs": [],
   "source": [
    "y = df['label']\n",
    "X = df.drop(columns=['label'])\n",
    "y = y.to_numpy()\n",
    "X = X.to_numpy()    \n",
    "y_test = test['label']\n",
    "X_test = test.drop(columns=['label'])\n",
    "X_test = X_test.to_numpy()\n",
    "y_test = y_test.to_numpy()"
   ]
  },
  {
   "cell_type": "code",
   "execution_count": 9,
   "metadata": {},
   "outputs": [
    {
     "name": "stdout",
     "output_type": "stream",
     "text": [
      "Training DSC with lr=0.0001, bs=2000, mdl=1e-07, nr=3\n",
      "Optimization started\n",
      "Processing epoch\t500\t0.2246\t\n",
      "Training time: 1157.43s, epochs: 500\n",
      "\n",
      "Least training loss reached: 0.225\n",
      "Accuracy: 0.6525, F1 micro: 0.6525, F1 macro: 0.6509094562098561\n",
      "Training DSC with lr=0.0001, bs=2000, mdl=1e-07, nr=5\n",
      "Optimization started\n",
      "Processing epoch\t1\t1.0000\t"
     ]
    },
    {
     "name": "stderr",
     "output_type": "stream",
     "text": [
      "C:\\Users\\Daniel\\AppData\\Local\\Temp\\ipykernel_21508\\871046233.py:28: FutureWarning: The behavior of DataFrame concatenation with empty or all-NA entries is deprecated. In a future version, this will no longer exclude empty or all-NA columns when determining the result dtypes. To retain the old behavior, exclude the relevant entries before the concat operation.\n",
      "  df_results = pd.concat([df_results, new_row])\n"
     ]
    },
    {
     "name": "stdout",
     "output_type": "stream",
     "text": [
      "Processing epoch\t500\t0.2238\t\n",
      "Training time: 1129.81s, epochs: 500\n",
      "\n",
      "Least training loss reached: 0.224\n",
      "Accuracy: 0.6625, F1 micro: 0.6625, F1 macro: 0.6607166418487174\n",
      "Training DSC with lr=0.0001, bs=2000, mdl=1e-07, nr=7\n",
      "Optimization started\n",
      "Processing epoch\t500\t0.2239\t\n",
      "Training time: 1124.18s, epochs: 500\n",
      "\n",
      "Least training loss reached: 0.224\n",
      "Accuracy: 0.66, F1 micro: 0.66, F1 macro: 0.6598639455782312\n",
      "Training DSC with lr=0.0001, bs=2000, mdl=1e-06, nr=3\n",
      "Optimization started\n",
      "Processing epoch\t500\t0.2200\t\n",
      "Training time: 1101.16s, epochs: 500\n",
      "\n",
      "Least training loss reached: 0.220\n",
      "Accuracy: 0.6525, F1 micro: 0.6525, F1 macro: 0.6522370042344523\n",
      "Training DSC with lr=0.0001, bs=2000, mdl=1e-06, nr=5\n",
      "Optimization started\n",
      "Processing epoch\t42\t0.2485\t"
     ]
    }
   ],
   "source": [
    "DSCs = {}\n",
    "time = {}\n",
    "accuracys = {}\n",
    "learning_rates = [0.0001, 0.001, 0.01, 0.1]\n",
    "batch_sizes = [2000, 3000, 4000]\n",
    "min_dl = [1e-7, 1e-6, 1e-5,]\n",
    "num_rules = [3, 5, 7,]\n",
    "df_results = pd.DataFrame(columns=['lr', 'bs', 'mdl', 'nr', 'accuracy', 'f1_micro', 'f1_macro'])\n",
    "for lr in learning_rates:\n",
    "    for bs in batch_sizes:\n",
    "        for mdl in min_dl:\n",
    "            for nr in num_rules:\n",
    "                DSC = DSClassifierMultiQ(2, min_iter=20, max_iter=500, debug_mode=True, lr=lr, batch_size=bs,\n",
    "                                lossfn=\"MSE\", num_workers=1, min_dloss=mdl, precompute_rules=True)\n",
    "                print(f\"Training DSC with lr={lr}, bs={bs}, mdl={mdl}, nr={nr}\")\n",
    "                losses, epoch, dt = DSC.fit(X, y, add_single_rules=True,\n",
    "                            single_rules_breaks=nr, add_mult_rules=False,\n",
    "                                column_names=df.columns[:-1], print_every_epochs=1, print_final_model=False)\n",
    "                y_pred = DSC.predict(X_test)\n",
    "                acc = accuracy_score(y_test, y_pred)\n",
    "                f1_micro = f1_score(y_test, y_pred, average='micro')\n",
    "                f1_macro = f1_score(y_test, y_pred, average='macro')\n",
    "                print(f\"Accuracy: {acc}, F1 micro: {f1_micro}, F1 macro: {f1_macro}\")\n",
    "                new_row = pd.DataFrame({\n",
    "                    'lr': [lr], 'bs': [bs], 'mdl': [mdl], 'nr': [nr],\n",
    "                    'accuracy': [acc], 'f1_micro': [f1_micro], 'f1_macro': [f1_macro]\n",
    "                })\n",
    "                df_results = pd.concat([df_results, new_row])\n",
    "                \n",
    "\n",
    "df_results.to_csv(\"results_pos.csv\", index=False)"
   ]
  },
  {
   "cell_type": "code",
   "execution_count": null,
   "metadata": {},
   "outputs": [],
   "source": [
    "df_results = pd.read_csv('results_pos.csv')\n",
    "df_results.sort_values(by='accuracy', ascending=False)\n",
    "df_results.head(5)"
   ]
  }
 ],
 "metadata": {
  "kernelspec": {
   "display_name": "env",
   "language": "python",
   "name": "python3"
  },
  "language_info": {
   "codemirror_mode": {
    "name": "ipython",
    "version": 3
   },
   "file_extension": ".py",
   "mimetype": "text/x-python",
   "name": "python",
   "nbconvert_exporter": "python",
   "pygments_lexer": "ipython3",
   "version": "3.12.2"
  }
 },
 "nbformat": 4,
 "nbformat_minor": 2
}
