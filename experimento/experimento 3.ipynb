{
 "cells": [
  {
   "cell_type": "code",
   "execution_count": 5,
   "metadata": {},
   "outputs": [],
   "source": [
    "import pandas as pd\n",
    "import numpy as np\n",
    "\n",
    "from dsgd.DSClassifierMultiQ import DSClassifierMultiQ\n",
    "\n",
    "from sklearn.metrics import accuracy_score, confusion_matrix, f1_score\n"
   ]
  },
  {
   "cell_type": "code",
   "execution_count": 6,
   "metadata": {},
   "outputs": [
    {
     "name": "stdout",
     "output_type": "stream",
     "text": [
      "Dataframe shape:  (1400, 27)\n",
      "Dataframe shape:  (400, 27)\n"
     ]
    }
   ],
   "source": [
    "df = pd.read_csv(\"https://huggingface.co/datasets/furrutiav/sac_nllf/raw/main/train.csv\")\n",
    "df = df.drop(columns=['index'])\n",
    "print(\"Dataframe shape: \", df.shape)\n",
    "df.head()\n",
    "test = pd.read_csv(\"https://huggingface.co/datasets/furrutiav/sac_nllf/raw/main/test.csv\")\n",
    "test = test.drop(columns=['index'])\n",
    "print(\"Dataframe shape: \", test.shape)"
   ]
  },
  {
   "cell_type": "code",
   "execution_count": 7,
   "metadata": {},
   "outputs": [],
   "source": [
    "y = df['label']\n",
    "X = df.drop(columns=['label'])\n",
    "y = y.to_numpy()\n",
    "X = X.to_numpy()    \n",
    "y_test = test['label']\n",
    "X_test = test.drop(columns=['label'])\n",
    "X_test = X_test.to_numpy()\n",
    "y_test = y_test.to_numpy()"
   ]
  },
  {
   "cell_type": "code",
   "execution_count": null,
   "metadata": {},
   "outputs": [],
   "source": [
    "DSCs = {}\n",
    "time = {}\n",
    "accuracys = {}\n",
    "learning_rates = [0.1, 0.01]\n",
    "batch_sizes = [2000, 3000, 4000]\n",
    "min_dl = [1e-7, 1e-6, 1e-5,]\n",
    "num_rules = [3, 5, 7,]\n",
    "df_results = pd.DataFrame(columns=['lr', 'bs', 'mdl', 'nr', 'accuracy', 'f1_micro', 'f1_macro'])\n",
    "for lr in learning_rates:\n",
    "    for bs in batch_sizes:\n",
    "        for mdl in min_dl:\n",
    "            for nr in num_rules:\n",
    "                DSC = DSClassifierMultiQ(2, min_iter=20, max_iter=1000, debug_mode=True, lr=lr, batch_size=bs,\n",
    "                                lossfn=\"MSE\", num_workers=1, min_dloss=mdl, precompute_rules=True)\n",
    "                print(f\"Training DSC with lr={lr}, bs={bs}, mdl={mdl}, nr={nr}\")\n",
    "                losses, epoch, dt = DSC.fit(X, y, add_single_rules=True,\n",
    "                            single_rules_breaks=nr, add_mult_rules=False,\n",
    "                                column_names=df.columns[:-1], print_every_epochs=1, print_final_model=False)\n",
    "                y_pred = DSC.predict(X_test)\n",
    "                acc = accuracy_score(y_test, y_pred)\n",
    "                f1_micro = f1_score(y_test, y_pred, average='micro')\n",
    "                f1_macro = f1_score(y_test, y_pred, average='macro')\n",
    "                print(f\"Accuracy: {acc}, F1 micro: {f1_micro}, F1 macro: {f1_macro}\")\n",
    "                new_row = pd.DataFrame({\n",
    "                    'lr': [lr], 'bs': [bs], 'mdl': [mdl], 'nr': [nr],\n",
    "                    'accuracy': [acc], 'f1_micro': [f1_micro], 'f1_macro': [f1_macro]\n",
    "                })\n",
    "                df_results = pd.concat([df_results, new_row])\n",
    "    \n",
    "df_results.to_csv('results3.csv', index=False)"
   ]
  },
  {
   "cell_type": "code",
   "execution_count": 11,
   "metadata": {},
   "outputs": [
    {
     "data": {
      "text/html": [
       "<div>\n",
       "<style scoped>\n",
       "    .dataframe tbody tr th:only-of-type {\n",
       "        vertical-align: middle;\n",
       "    }\n",
       "\n",
       "    .dataframe tbody tr th {\n",
       "        vertical-align: top;\n",
       "    }\n",
       "\n",
       "    .dataframe thead th {\n",
       "        text-align: right;\n",
       "    }\n",
       "</style>\n",
       "<table border=\"1\" class=\"dataframe\">\n",
       "  <thead>\n",
       "    <tr style=\"text-align: right;\">\n",
       "      <th></th>\n",
       "      <th>lr</th>\n",
       "      <th>bs</th>\n",
       "      <th>mdl</th>\n",
       "      <th>nr</th>\n",
       "      <th>accuracy</th>\n",
       "      <th>f1_micro</th>\n",
       "      <th>f1_macro</th>\n",
       "    </tr>\n",
       "  </thead>\n",
       "  <tbody>\n",
       "    <tr>\n",
       "      <th>0</th>\n",
       "      <td>0.1</td>\n",
       "      <td>2000</td>\n",
       "      <td>1.000000e-07</td>\n",
       "      <td>3</td>\n",
       "      <td>0.6525</td>\n",
       "      <td>0.6525</td>\n",
       "      <td>0.649501</td>\n",
       "    </tr>\n",
       "    <tr>\n",
       "      <th>3</th>\n",
       "      <td>0.1</td>\n",
       "      <td>2000</td>\n",
       "      <td>1.000000e-06</td>\n",
       "      <td>3</td>\n",
       "      <td>0.6475</td>\n",
       "      <td>0.6475</td>\n",
       "      <td>0.646118</td>\n",
       "    </tr>\n",
       "    <tr>\n",
       "      <th>22</th>\n",
       "      <td>0.1</td>\n",
       "      <td>4000</td>\n",
       "      <td>1.000000e-06</td>\n",
       "      <td>5</td>\n",
       "      <td>0.6450</td>\n",
       "      <td>0.6450</td>\n",
       "      <td>0.639813</td>\n",
       "    </tr>\n",
       "    <tr>\n",
       "      <th>16</th>\n",
       "      <td>0.1</td>\n",
       "      <td>3000</td>\n",
       "      <td>1.000000e-05</td>\n",
       "      <td>5</td>\n",
       "      <td>0.6425</td>\n",
       "      <td>0.6425</td>\n",
       "      <td>0.642122</td>\n",
       "    </tr>\n",
       "    <tr>\n",
       "      <th>9</th>\n",
       "      <td>0.1</td>\n",
       "      <td>3000</td>\n",
       "      <td>1.000000e-07</td>\n",
       "      <td>3</td>\n",
       "      <td>0.6350</td>\n",
       "      <td>0.6350</td>\n",
       "      <td>0.633893</td>\n",
       "    </tr>\n",
       "  </tbody>\n",
       "</table>\n",
       "</div>"
      ],
      "text/plain": [
       "     lr    bs           mdl  nr  accuracy  f1_micro  f1_macro\n",
       "0   0.1  2000  1.000000e-07   3    0.6525    0.6525  0.649501\n",
       "3   0.1  2000  1.000000e-06   3    0.6475    0.6475  0.646118\n",
       "22  0.1  4000  1.000000e-06   5    0.6450    0.6450  0.639813\n",
       "16  0.1  3000  1.000000e-05   5    0.6425    0.6425  0.642122\n",
       "9   0.1  3000  1.000000e-07   3    0.6350    0.6350  0.633893"
      ]
     },
     "execution_count": 11,
     "metadata": {},
     "output_type": "execute_result"
    }
   ],
   "source": [
    "df_results = pd.read_csv('results3.csv')\n",
    "df_results = df_results.sort_values(by='accuracy', ascending=False)\n",
    "df_results.head(5)"
   ]
  }
 ],
 "metadata": {
  "kernelspec": {
   "display_name": "env",
   "language": "python",
   "name": "python3"
  },
  "language_info": {
   "codemirror_mode": {
    "name": "ipython",
    "version": 3
   },
   "file_extension": ".py",
   "mimetype": "text/x-python",
   "name": "python",
   "nbconvert_exporter": "python",
   "pygments_lexer": "ipython3",
   "version": "3.12.2"
  }
 },
 "nbformat": 4,
 "nbformat_minor": 2
}
