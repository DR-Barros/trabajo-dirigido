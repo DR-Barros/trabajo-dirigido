{
 "cells": [
  {
   "cell_type": "code",
   "execution_count": 30,
   "metadata": {},
   "outputs": [],
   "source": [
    "import pandas as pd\n",
    "import numpy as np\n",
    "\n",
    "from dsgd.DSClassifierMultiQ import DSClassifierMultiQ\n",
    "\n",
    "from sklearn.metrics import accuracy_score, confusion_matrix, classification_report, f1_score"
   ]
  },
  {
   "cell_type": "code",
   "execution_count": 2,
   "metadata": {},
   "outputs": [
    {
     "name": "stdout",
     "output_type": "stream",
     "text": [
      "Dataframe shape:  (1400, 27)\n",
      "Dataframe shape:  (200, 27)\n"
     ]
    }
   ],
   "source": [
    "df = pd.read_csv(\"https://huggingface.co/datasets/furrutiav/sac_nllf/raw/main/train.csv\")\n",
    "df = df.drop(columns=['index'])\n",
    "print(\"Dataframe shape: \", df.shape)\n",
    "df.head()\n",
    "test = pd.read_csv(\"https://huggingface.co/datasets/furrutiav/sac_nllf/raw/main/val.csv\")\n",
    "test = test.drop(columns=['index'])\n",
    "print(\"Dataframe shape: \", test.shape)"
   ]
  },
  {
   "cell_type": "code",
   "execution_count": 3,
   "metadata": {},
   "outputs": [],
   "source": [
    "y = df['label']\n",
    "X = df.drop(columns=['label'])\n",
    "y = y.to_numpy()\n",
    "X = X.to_numpy()    \n",
    "y_test = test['label']\n",
    "X_test = test.drop(columns=['label'])\n",
    "X_test = X_test.to_numpy()\n",
    "y_test = y_test.to_numpy()"
   ]
  },
  {
   "cell_type": "code",
   "execution_count": 34,
   "metadata": {},
   "outputs": [
    {
     "name": "stdout",
     "output_type": "stream",
     "text": [
      "Optimization started\n",
      "Processing epoch\t1\t1.0000\t"
     ]
    },
    {
     "name": "stdout",
     "output_type": "stream",
     "text": [
      "Processing epoch\t23\t0.1932\t\n",
      "Training time: 9.00s, epochs: 23\n",
      "\n",
      "Least training loss reached: 0.194\n"
     ]
    }
   ],
   "source": [
    "DSC2 = DSClassifierMultiQ(2, min_iter=20, max_iter=1000, debug_mode=True, lr=0.1, batch_size=4000,\n",
    "                                lossfn=\"MSE\", num_workers=1, min_dloss=1e-5, precompute_rules=True)\n",
    "\n",
    "losses, epoch, dt = DSC2.fit(X, y, add_single_rules=True,\n",
    "                            single_rules_breaks=7, add_mult_rules=False,\n",
    "                                column_names=df.columns[:-1], print_every_epochs=1, print_final_model=False)\n",
    "y_pred2 = DSC2.predict(X_test)\n"
   ]
  },
  {
   "cell_type": "code",
   "execution_count": 35,
   "metadata": {},
   "outputs": [
    {
     "name": "stdout",
     "output_type": "stream",
     "text": [
      "Accuracy:  0.695\n",
      "[[78 34]\n",
      " [27 61]]\n",
      "              precision    recall  f1-score   support\n",
      "\n",
      "           0       0.74      0.70      0.72       112\n",
      "           1       0.64      0.69      0.67        88\n",
      "\n",
      "    accuracy                           0.69       200\n",
      "   macro avg       0.69      0.69      0.69       200\n",
      "weighted avg       0.70      0.69      0.70       200\n",
      "\n"
     ]
    }
   ],
   "source": [
    "acc2 = accuracy_score(y_test, y_pred2)\n",
    "print(\"Accuracy: \", acc2)\n",
    "print(confusion_matrix(y_test, y_pred2))\n",
    "print(classification_report(y_test, y_pred2))"
   ]
  },
  {
   "cell_type": "code",
   "execution_count": 25,
   "metadata": {},
   "outputs": [
    {
     "name": "stdout",
     "output_type": "stream",
     "text": [
      "Optimization started\n",
      "Processing epoch\t23\t0.2033\t\n",
      "Training time: 8.91s, epochs: 23\n",
      "\n",
      "Least training loss reached: 0.206\n"
     ]
    }
   ],
   "source": [
    "DSC = DSClassifierMultiQ(2, min_iter=20, max_iter=1000, debug_mode=True, lr=0.1, batch_size=3000,\n",
    "                                lossfn=\"MSE\", num_workers=1, min_dloss=1e-6, precompute_rules=True)\n",
    "\n",
    "losses, epoch, dt = DSC.fit(X, y, add_single_rules=True,\n",
    "                            single_rules_breaks=3, add_mult_rules=False,\n",
    "                                column_names=df.columns[:-1], print_every_epochs=1, print_final_model=False)\n",
    "y_pred = DSC.predict(X_test)\n",
    "acc = accuracy_score(y_test, y_pred)"
   ]
  },
  {
   "cell_type": "code",
   "execution_count": 31,
   "metadata": {},
   "outputs": [
    {
     "name": "stdout",
     "output_type": "stream",
     "text": [
      "Accuracy:  0.72\n",
      "[[83 29]\n",
      " [27 61]]\n",
      "              precision    recall  f1-score   support\n",
      "\n",
      "           0       0.75      0.74      0.75       112\n",
      "           1       0.68      0.69      0.69        88\n",
      "\n",
      "    accuracy                           0.72       200\n",
      "   macro avg       0.72      0.72      0.72       200\n",
      "weighted avg       0.72      0.72      0.72       200\n",
      "\n",
      "F1 Score:  0.7203117724466039\n",
      "f1 Score macro:  0.716570503087357\n",
      "f1 Score micro:  0.72\n"
     ]
    }
   ],
   "source": [
    "acc = accuracy_score(y_test, y_pred)\n",
    "print(\"Accuracy: \", acc)\n",
    "print(confusion_matrix(y_test, y_pred))\n",
    "print(classification_report(y_test, y_pred))\n",
    "print(\"F1 Score: \", f1_score(y_test, y_pred, average='weighted'))\n",
    "print(\"f1 Score macro: \", f1_score(y_test, y_pred, average='macro'))\n",
    "print(\"f1 Score micro: \", f1_score(y_test, y_pred, average='micro'))"
   ]
  },
  {
   "cell_type": "code",
   "execution_count": null,
   "metadata": {},
   "outputs": [],
   "source": [
    "DSC.print_most_important_rules(classes=[\"0\",  \"1\"])"
   ]
  },
  {
   "cell_type": "code",
   "execution_count": 48,
   "metadata": {},
   "outputs": [
    {
     "name": "stdout",
     "output_type": "stream",
     "text": [
      "Optimization started\n",
      "Processing epoch\t54\t0.2003\t\n",
      "Training time: 21.17s, epochs: 54\n",
      "\n",
      "Least training loss reached: 0.200\n"
     ]
    }
   ],
   "source": [
    "DSC3 = DSClassifierMultiQ(2, min_iter=50, max_iter=1000, debug_mode=True, lr=0.1, batch_size=4000,\n",
    "                         lossfn=\"MSE\", num_workers=1, min_dloss=1e-7, precompute_rules=True)\n",
    "\n",
    "losses, epoch, dt = DSC3.fit(X, y, add_single_rules=True,\n",
    "                            single_rules_breaks=3, add_mult_rules=False,\n",
    "                                column_names=df.columns[:-1], print_every_epochs=1, print_final_model=False)"
   ]
  },
  {
   "cell_type": "code",
   "execution_count": 49,
   "metadata": {},
   "outputs": [
    {
     "name": "stdout",
     "output_type": "stream",
     "text": [
      "Accuracy:  0.71\n",
      "[[80 32]\n",
      " [26 62]]\n",
      "              precision    recall  f1-score   support\n",
      "\n",
      "           0       0.75      0.71      0.73       112\n",
      "           1       0.66      0.70      0.68        88\n",
      "\n",
      "    accuracy                           0.71       200\n",
      "   macro avg       0.71      0.71      0.71       200\n",
      "weighted avg       0.71      0.71      0.71       200\n",
      "\n",
      "F1 Score:  0.7107893940921464\n",
      "f1 Score macro:  0.7076318177235609\n",
      "f1 Score micro:  0.71\n"
     ]
    }
   ],
   "source": [
    "acc3 = accuracy_score(y_test, DSC3.predict(X_test))\n",
    "print(\"Accuracy: \", acc3)\n",
    "print(confusion_matrix(y_test, DSC3.predict(X_test)))\n",
    "print(classification_report(y_test, DSC3.predict(X_test)))\n",
    "print(\"F1 Score: \", f1_score(y_test, DSC3.predict(X_test), average='weighted'))\n",
    "print(\"f1 Score macro: \", f1_score(y_test, DSC3.predict(X_test), average='macro'))\n",
    "print(\"f1 Score micro: \", f1_score(y_test, DSC3.predict(X_test), average='micro'))"
   ]
  }
 ],
 "metadata": {
  "kernelspec": {
   "display_name": "python-env",
   "language": "python",
   "name": "python3"
  },
  "language_info": {
   "codemirror_mode": {
    "name": "ipython",
    "version": 3
   },
   "file_extension": ".py",
   "mimetype": "text/x-python",
   "name": "python",
   "nbconvert_exporter": "python",
   "pygments_lexer": "ipython3",
   "version": "3.10.12"
  }
 },
 "nbformat": 4,
 "nbformat_minor": 2
}
