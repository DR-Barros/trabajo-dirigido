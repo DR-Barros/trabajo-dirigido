{
 "cells": [
  {
   "cell_type": "code",
   "execution_count": 30,
   "metadata": {},
   "outputs": [],
   "source": [
    "import pandas as pd\n",
    "import numpy as np\n",
    "\n",
    "from dsgd.DSClassifierMultiQ import DSClassifierMultiQ\n",
    "\n",
    "from sklearn.metrics import accuracy_score, confusion_matrix, classification_report, f1_score"
   ]
  },
  {
   "cell_type": "code",
   "execution_count": 2,
   "metadata": {},
   "outputs": [
    {
     "name": "stdout",
     "output_type": "stream",
     "text": [
      "Dataframe shape:  (1400, 27)\n",
      "Dataframe shape:  (200, 27)\n"
     ]
    }
   ],
   "source": [
    "df = pd.read_csv(\"https://huggingface.co/datasets/furrutiav/sac_nllf/raw/main/train.csv\")\n",
    "df = df.drop(columns=['index'])\n",
    "print(\"Dataframe shape: \", df.shape)\n",
    "df.head()\n",
    "test = pd.read_csv(\"https://huggingface.co/datasets/furrutiav/sac_nllf/raw/main/val.csv\")\n",
    "test = test.drop(columns=['index'])\n",
    "print(\"Dataframe shape: \", test.shape)"
   ]
  },
  {
   "cell_type": "code",
   "execution_count": 3,
   "metadata": {},
   "outputs": [],
   "source": [
    "y = df['label']\n",
    "X = df.drop(columns=['label'])\n",
    "y = y.to_numpy()\n",
    "X = X.to_numpy()    \n",
    "y_test = test['label']\n",
    "X_test = test.drop(columns=['label'])\n",
    "X_test = X_test.to_numpy()\n",
    "y_test = y_test.to_numpy()"
   ]
  },
  {
   "cell_type": "code",
   "execution_count": 34,
   "metadata": {},
   "outputs": [
    {
     "name": "stdout",
     "output_type": "stream",
     "text": [
      "Optimization started\n",
      "Processing epoch\t1\t1.0000\t"
     ]
    },
    {
     "name": "stdout",
     "output_type": "stream",
     "text": [
      "Processing epoch\t23\t0.1932\t\n",
      "Training time: 9.00s, epochs: 23\n",
      "\n",
      "Least training loss reached: 0.194\n"
     ]
    }
   ],
   "source": [
    "DSC2 = DSClassifierMultiQ(2, min_iter=20, max_iter=1000, debug_mode=True, lr=0.1, batch_size=4000,\n",
    "                                lossfn=\"MSE\", num_workers=1, min_dloss=1e-5, precompute_rules=True)\n",
    "\n",
    "losses, epoch, dt = DSC2.fit(X, y, add_single_rules=True,\n",
    "                            single_rules_breaks=7, add_mult_rules=False,\n",
    "                                column_names=df.columns[:-1], print_every_epochs=1, print_final_model=False)\n",
    "y_pred2 = DSC2.predict(X_test)\n"
   ]
  },
  {
   "cell_type": "code",
   "execution_count": 35,
   "metadata": {},
   "outputs": [
    {
     "name": "stdout",
     "output_type": "stream",
     "text": [
      "Accuracy:  0.695\n",
      "[[78 34]\n",
      " [27 61]]\n",
      "              precision    recall  f1-score   support\n",
      "\n",
      "           0       0.74      0.70      0.72       112\n",
      "           1       0.64      0.69      0.67        88\n",
      "\n",
      "    accuracy                           0.69       200\n",
      "   macro avg       0.69      0.69      0.69       200\n",
      "weighted avg       0.70      0.69      0.70       200\n",
      "\n"
     ]
    }
   ],
   "source": [
    "acc2 = accuracy_score(y_test, y_pred2)\n",
    "print(\"Accuracy: \", acc2)\n",
    "print(confusion_matrix(y_test, y_pred2))\n",
    "print(classification_report(y_test, y_pred2))"
   ]
  },
  {
   "cell_type": "code",
   "execution_count": 25,
   "metadata": {},
   "outputs": [
    {
     "name": "stdout",
     "output_type": "stream",
     "text": [
      "Optimization started\n",
      "Processing epoch\t23\t0.2033\t\n",
      "Training time: 8.91s, epochs: 23\n",
      "\n",
      "Least training loss reached: 0.206\n"
     ]
    }
   ],
   "source": [
    "DSC = DSClassifierMultiQ(2, min_iter=20, max_iter=1000, debug_mode=True, lr=0.1, batch_size=3000,\n",
    "                                lossfn=\"MSE\", num_workers=1, min_dloss=1e-6, precompute_rules=True)\n",
    "\n",
    "losses, epoch, dt = DSC.fit(X, y, add_single_rules=True,\n",
    "                            single_rules_breaks=3, add_mult_rules=False,\n",
    "                                column_names=df.columns[:-1], print_every_epochs=1, print_final_model=False)\n",
    "y_pred = DSC.predict(X_test)\n",
    "acc = accuracy_score(y_test, y_pred)"
   ]
  },
  {
   "cell_type": "code",
   "execution_count": 31,
   "metadata": {},
   "outputs": [
    {
     "name": "stdout",
     "output_type": "stream",
     "text": [
      "Accuracy:  0.72\n",
      "[[83 29]\n",
      " [27 61]]\n",
      "              precision    recall  f1-score   support\n",
      "\n",
      "           0       0.75      0.74      0.75       112\n",
      "           1       0.68      0.69      0.69        88\n",
      "\n",
      "    accuracy                           0.72       200\n",
      "   macro avg       0.72      0.72      0.72       200\n",
      "weighted avg       0.72      0.72      0.72       200\n",
      "\n",
      "F1 Score:  0.7203117724466039\n",
      "f1 Score macro:  0.716570503087357\n",
      "f1 Score micro:  0.72\n"
     ]
    }
   ],
   "source": [
    "acc = accuracy_score(y_test, y_pred)\n",
    "print(\"Accuracy: \", acc)\n",
    "print(confusion_matrix(y_test, y_pred))\n",
    "print(classification_report(y_test, y_pred))\n",
    "print(\"F1 Score: \", f1_score(y_test, y_pred, average='weighted'))\n",
    "print(\"f1 Score macro: \", f1_score(y_test, y_pred, average='macro'))\n",
    "print(\"f1 Score micro: \", f1_score(y_test, y_pred, average='micro'))"
   ]
  },
  {
   "cell_type": "code",
   "execution_count": 28,
   "metadata": {},
   "outputs": [
    {
     "name": "stdout",
     "output_type": "stream",
     "text": [
      "\n",
      "\n",
      "Most important rules for class 0\n",
      "\n",
      "\t[0.731] R34: 0.018 < b5(N) < 0.084\n",
      "\t\t\t0: 0.731\t1: 0.000\tUnc: 0.269\n",
      "\n",
      "\t[0.657] R5: 0.721 < b2(Y) < 0.894\n",
      "\t\t\t0: 0.657\t1: 0.000\tUnc: 0.343\n",
      "\n",
      "\t[0.456] R94: 0.325 < b11(Y) < 0.606\n",
      "\t\t\t0: 0.456\t1: 0.000\tUnc: 0.544\n",
      "\n",
      "\t[0.431] R67: b1(N) > 0.282\n",
      "\t\t\t0: 0.382\t1: 0.104\tUnc: 0.514\n",
      "\n",
      "\t[0.424] R48: b8(N) < 0.146\n",
      "\t\t\t0: 0.394\t1: 0.062\tUnc: 0.544\n",
      "\n",
      "\t[0.414] R68: b1(Y) < 0.717\n",
      "\t\t\t0: 0.379\t1: 0.073\tUnc: 0.548\n",
      "\n",
      "\t[0.408] R10: 0.104 < b7(N) < 0.229\n",
      "\t\t\t0: 0.371\t1: 0.078\tUnc: 0.551\n",
      "\n",
      "\t[0.404] R20: b6(Y) < 0.600\n",
      "\t\t\t0: 0.378\t1: 0.054\tUnc: 0.568\n",
      "\n",
      "\t[0.400] R18: 0.201 < b6(N) < 0.435\n",
      "\t\t\t0: 0.352\t1: 0.103\tUnc: 0.545\n",
      "\n",
      "\t[0.382] R86: 0.248 < b12(Y) < 0.510\n",
      "\t\t\t0: 0.365\t1: 0.035\tUnc: 0.600\n",
      "\n",
      "\t[0.364] R19: b6(N) > 0.435\n",
      "\t\t\t0: 0.352\t1: 0.025\tUnc: 0.623\n",
      "\n",
      "\t[0.315] R58: 0.008 < b4(N) < 0.047\n",
      "\t\t\t0: 0.235\t1: 0.187\tUnc: 0.578\n",
      "\n",
      "\t[0.287] R85: -0.014 < b12(Y) < 0.248\n",
      "\t\t\t0: 0.236\t1: 0.112\tUnc: 0.652\n",
      "\n",
      "\t[0.286] R3: b2(N) > 0.262\n",
      "\t\t\t0: 0.286\t1: 0.000\tUnc: 0.714\n",
      "\n",
      "\t[0.284] R12: b7(Y) < 0.715\n",
      "\t\t\t0: 0.266\t1: 0.038\tUnc: 0.697\n",
      "\n",
      "\t[0.274] R53: 0.276 < b8(Y) < 0.552\n",
      "\t\t\t0: 0.274\t1: 0.002\tUnc: 0.725\n",
      "\n",
      "\t[0.271] R30: 0.669 < b9(Y) < 0.945\n",
      "\t\t\t0: 0.253\t1: 0.038\tUnc: 0.709\n",
      "\n",
      "\t[0.267] R91: b11(N) > 0.965\n",
      "\t\t\t0: 0.229\t1: 0.082\tUnc: 0.689\n",
      "\n",
      "\t[0.261] R75: b3(N) > 0.542\n",
      "\t\t\t0: 0.200\t1: 0.140\tUnc: 0.660\n",
      "\n",
      "\t[0.256] R98: 0.679 < b13(N) < 0.959\n",
      "\t\t\t0: 0.220\t1: 0.078\tUnc: 0.702\n",
      "\n",
      "\t[0.251] R54: 0.552 < b8(Y) < 0.827\n",
      "\t\t\t0: 0.251\t1: 0.000\tUnc: 0.749\n",
      "\n",
      "\t[0.248] R29: 0.393 < b9(Y) < 0.669\n",
      "\t\t\t0: 0.153\t1: 0.250\tUnc: 0.597\n",
      "\n",
      "\t[0.232] R92: b11(Y) < 0.044\n",
      "\t\t\t0: 0.200\t1: 0.070\tUnc: 0.730\n",
      "\n",
      "\t[0.228] R82: 0.766 < b12(N) < 1.019\n",
      "\t\t\t0: 0.179\t1: 0.111\tUnc: 0.710\n",
      "\n",
      "\t[0.226] R69: 0.717 < b1(Y) < 0.887\n",
      "\t\t\t0: 0.144\t1: 0.211\tUnc: 0.645\n",
      "\n",
      "\t[0.207] R40: b10(N) < 0.032\n",
      "\t\t\t0: 0.193\t1: 0.029\tUnc: 0.779\n",
      "\n",
      "\t[0.206] R36: b5(Y) < 0.914\n",
      "\t\t\t0: 0.206\t1: 0.000\tUnc: 0.794\n",
      "\n",
      "Most important rules for class 1\n",
      "\n",
      "\t[0.756] R60: b4(Y) < 0.953\n",
      "\t\t\t0: 0.000\t1: 0.756\tUnc: 0.244\n",
      "\n",
      "\t[0.739] R61: 0.953 < b4(Y) < 0.993\n",
      "\t\t\t0: 0.047\t1: 0.716\tUnc: 0.237\n",
      "\n",
      "\t[0.439] R11: b7(N) > 0.229\n",
      "\t\t\t0: 0.000\t1: 0.439\tUnc: 0.561\n",
      "\n",
      "\t[0.413] R89: 0.413 < b11(N) < 0.689\n",
      "\t\t\t0: 0.053\t1: 0.387\tUnc: 0.560\n",
      "\n",
      "\t[0.407] R95: b11(Y) > 0.606\n",
      "\t\t\t0: 0.039\t1: 0.388\tUnc: 0.573\n",
      "\n",
      "\t[0.396] R37: 0.914 < b5(Y) < 0.982\n",
      "\t\t\t0: 0.000\t1: 0.396\tUnc: 0.604\n",
      "\n",
      "\t[0.366] R17: -0.033 < b6(N) < 0.201\n",
      "\t\t\t0: 0.040\t1: 0.346\tUnc: 0.613\n",
      "\n",
      "\t[0.363] R42: 0.275 < b10(N) < 0.517\n",
      "\t\t\t0: 0.002\t1: 0.362\tUnc: 0.636\n",
      "\n",
      "\t[0.318] R29: 0.393 < b9(Y) < 0.669\n",
      "\t\t\t0: 0.153\t1: 0.250\tUnc: 0.597\n",
      "\n",
      "\t[0.288] R21: 0.600 < b6(Y) < 0.824\n",
      "\t\t\t0: 0.084\t1: 0.250\tUnc: 0.667\n",
      "\n",
      "\t[0.281] R58: 0.008 < b4(N) < 0.047\n",
      "\t\t\t0: 0.235\t1: 0.187\tUnc: 0.578\n",
      "\n",
      "\t[0.276] R102: 0.299 < b13(Y) < 0.575\n",
      "\t\t\t0: 0.094\t1: 0.233\tUnc: 0.673\n",
      "\n",
      "\t[0.276] R88: b11(N) < 0.413\n",
      "\t\t\t0: 0.111\t1: 0.225\tUnc: 0.663\n",
      "\n",
      "\t[0.274] R69: 0.717 < b1(Y) < 0.887\n",
      "\t\t\t0: 0.144\t1: 0.211\tUnc: 0.645\n",
      "\n",
      "\t[0.262] R2: 0.096 < b2(N) < 0.262\n",
      "\t\t\t0: 0.010\t1: 0.257\tUnc: 0.733\n",
      "\n",
      "\t[0.244] R13: 0.715 < b7(Y) < 0.862\n",
      "\t\t\t0: 0.047\t1: 0.222\tUnc: 0.732\n",
      "\n",
      "\t[0.235] R66: 0.114 < b1(N) < 0.282\n",
      "\t\t\t0: 0.068\t1: 0.204\tUnc: 0.729\n",
      "\n",
      "\t[0.230] R77: 0.438 < b3(Y) < 0.698\n",
      "\t\t\t0: 0.103\t1: 0.184\tUnc: 0.713\n",
      "\n",
      "\t[0.226] R43: b10(N) > 0.517\n",
      "\t\t\t0: 0.027\t1: 0.213\tUnc: 0.760\n",
      "\n",
      "\t[0.225] R67: b1(N) > 0.282\n",
      "\t\t\t0: 0.382\t1: 0.104\tUnc: 0.514\n",
      "\n",
      "\t[0.218] R75: b3(N) > 0.542\n",
      "\t\t\t0: 0.200\t1: 0.140\tUnc: 0.660\n",
      "\n",
      "\t[0.217] R18: 0.201 < b6(N) < 0.435\n",
      "\t\t\t0: 0.352\t1: 0.103\tUnc: 0.545\n",
      "\n",
      "\t[0.210] R97: 0.400 < b13(N) < 0.679\n",
      "\t\t\t0: 0.021\t1: 0.200\tUnc: 0.779\n",
      "\n",
      "\t[0.209] R22: 0.824 < b6(Y) < 1.048\n",
      "\t\t\t0: 0.043\t1: 0.189\tUnc: 0.768\n",
      "\n",
      "\t[0.207] R25: 0.041 < b9(N) < 0.307\n",
      "\t\t\t0: 0.034\t1: 0.191\tUnc: 0.775\n",
      "\n",
      "\t[0.207] R52: b8(Y) < 0.276\n",
      "\t\t\t0: 0.132\t1: 0.151\tUnc: 0.717\n"
     ]
    }
   ],
   "source": [
    "DSC.print_most_important_rules(classes=[\"0\",  \"1\"])"
   ]
  },
  {
   "cell_type": "code",
   "execution_count": 48,
   "metadata": {},
   "outputs": [
    {
     "name": "stdout",
     "output_type": "stream",
     "text": [
      "Optimization started\n",
      "Processing epoch\t54\t0.2003\t\n",
      "Training time: 21.17s, epochs: 54\n",
      "\n",
      "Least training loss reached: 0.200\n"
     ]
    }
   ],
   "source": [
    "DSC3 = DSClassifierMultiQ(2, min_iter=50, max_iter=1000, debug_mode=True, lr=0.1, batch_size=4000,\n",
    "                         lossfn=\"MSE\", num_workers=1, min_dloss=1e-7, precompute_rules=True)\n",
    "\n",
    "losses, epoch, dt = DSC3.fit(X, y, add_single_rules=True,\n",
    "                            single_rules_breaks=3, add_mult_rules=False,\n",
    "                                column_names=df.columns[:-1], print_every_epochs=1, print_final_model=False)"
   ]
  },
  {
   "cell_type": "code",
   "execution_count": 49,
   "metadata": {},
   "outputs": [
    {
     "name": "stdout",
     "output_type": "stream",
     "text": [
      "Accuracy:  0.71\n",
      "[[80 32]\n",
      " [26 62]]\n",
      "              precision    recall  f1-score   support\n",
      "\n",
      "           0       0.75      0.71      0.73       112\n",
      "           1       0.66      0.70      0.68        88\n",
      "\n",
      "    accuracy                           0.71       200\n",
      "   macro avg       0.71      0.71      0.71       200\n",
      "weighted avg       0.71      0.71      0.71       200\n",
      "\n",
      "F1 Score:  0.7107893940921464\n",
      "f1 Score macro:  0.7076318177235609\n",
      "f1 Score micro:  0.71\n"
     ]
    }
   ],
   "source": [
    "acc3 = accuracy_score(y_test, DSC3.predict(X_test))\n",
    "print(\"Accuracy: \", acc3)\n",
    "print(confusion_matrix(y_test, DSC3.predict(X_test)))\n",
    "print(classification_report(y_test, DSC3.predict(X_test)))\n",
    "print(\"F1 Score: \", f1_score(y_test, DSC3.predict(X_test), average='weighted'))\n",
    "print(\"f1 Score macro: \", f1_score(y_test, DSC3.predict(X_test), average='macro'))\n",
    "print(\"f1 Score micro: \", f1_score(y_test, DSC3.predict(X_test), average='micro'))"
   ]
  }
 ],
 "metadata": {
  "kernelspec": {
   "display_name": "python-env",
   "language": "python",
   "name": "python3"
  },
  "language_info": {
   "codemirror_mode": {
    "name": "ipython",
    "version": 3
   },
   "file_extension": ".py",
   "mimetype": "text/x-python",
   "name": "python",
   "nbconvert_exporter": "python",
   "pygments_lexer": "ipython3",
   "version": "3.10.12"
  }
 },
 "nbformat": 4,
 "nbformat_minor": 2
}
